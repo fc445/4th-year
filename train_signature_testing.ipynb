{
 "cells": [
  {
   "cell_type": "code",
   "execution_count": null,
   "metadata": {},
   "outputs": [],
   "source": [
    "import os\n",
    "from scipy.io import wavfile\n",
    "from scipy.fftpack import fft\n",
    "import numpy as np\n",
    "import matplotlib.pyplot as plt \n",
    "import scipy\n",
    "import librosa\n",
    "from scipy.signal import welch\n",
    "from expected_train_times import *\n",
    "from octave_band import find_octave_band, plot_octave, plot_custom_bands"
   ]
  },
  {
   "cell_type": "code",
   "execution_count": null,
   "metadata": {},
   "outputs": [],
   "source": []
  },
  {
   "cell_type": "code",
   "execution_count": null,
   "metadata": {},
   "outputs": [],
   "source": [
    "data, samplerate = librosa.load('train_recordings/hour0101.wav', sr=1000)"
   ]
  },
  {
   "cell_type": "markdown",
   "metadata": {},
   "source": [
    "# central initial 1/3rd octave bands"
   ]
  },
  {
   "cell_type": "code",
   "execution_count": null,
   "metadata": {},
   "outputs": [],
   "source": [
    "plot_octave(data, samplerate, [50,63,125,160,200,250,315,400], ['cen'])"
   ]
  },
  {
   "cell_type": "markdown",
   "metadata": {},
   "source": [
    "## Eastbound\n",
    "### big peak in 125, little at 160 and a bit at 200\n",
    "\n",
    "## Westbound\n",
    "### main peak smaller than eastbound at 125, peak at 63 and 160"
   ]
  },
  {
   "cell_type": "markdown",
   "metadata": {},
   "source": [
    "## EASTBOUND\n",
    "### (orange)"
   ]
  },
  {
   "cell_type": "code",
   "execution_count": null,
   "metadata": {},
   "outputs": [],
   "source": [
    "plot_custom_bands(data, samplerate, [(70,90),(90,110),(110,130),(130,150),(150,170),(170,190),(190,210),(210,230)], ['cen'])"
   ]
  },
  {
   "cell_type": "markdown",
   "metadata": {},
   "source": [
    "### main peaks 90-150"
   ]
  },
  {
   "cell_type": "code",
   "execution_count": null,
   "metadata": {},
   "outputs": [],
   "source": [
    "plot_custom_bands(data, samplerate, [(90,100),(100,110),(110,120),(120,130),(130,140),(140,150)], ['cen'])"
   ]
  },
  {
   "cell_type": "markdown",
   "metadata": {},
   "source": [
    "### main peak 100-120 ish"
   ]
  },
  {
   "cell_type": "code",
   "execution_count": null,
   "metadata": {},
   "outputs": [],
   "source": [
    "plot_custom_bands(data, samplerate, [(100,105),(105,110),(110,115),(115,120)], ['cen'])"
   ]
  },
  {
   "cell_type": "markdown",
   "metadata": {},
   "source": [
    "## WESTBOUND\n",
    "### (red)"
   ]
  },
  {
   "cell_type": "code",
   "execution_count": null,
   "metadata": {},
   "outputs": [],
   "source": [
    "plot_custom_bands(data, samplerate, [(50,60),(60,70),(70,80),(80,90),(90,100),(100,110),(110,120),(120,130),(130,140),(140,150)], ['cen'])"
   ]
  },
  {
   "cell_type": "markdown",
   "metadata": {},
   "source": [
    "### peaks at 60-80ish, 100-120ish and 130-150ish"
   ]
  },
  {
   "cell_type": "code",
   "execution_count": null,
   "metadata": {},
   "outputs": [],
   "source": [
    "plot_custom_bands(data, samplerate, [(60,65),(65,70),(70,75),(75,80)], ['cen'])"
   ]
  },
  {
   "cell_type": "code",
   "execution_count": null,
   "metadata": {},
   "outputs": [],
   "source": [
    "plot_custom_bands(data, samplerate, [(100,105),(105,110),(110,115),(115,120)], ['cen'])"
   ]
  },
  {
   "cell_type": "code",
   "execution_count": null,
   "metadata": {},
   "outputs": [],
   "source": [
    "plot_custom_bands(data, samplerate, [(130,135),(135,140),(140,145),(145,150)], ['cen'])"
   ]
  },
  {
   "cell_type": "markdown",
   "metadata": {},
   "source": [
    "### peaks at 65-75, 105-110, 130-145"
   ]
  },
  {
   "cell_type": "markdown",
   "metadata": {},
   "source": [
    "# bakerloo initial 1/3rd octave bands"
   ]
  },
  {
   "cell_type": "code",
   "execution_count": null,
   "metadata": {},
   "outputs": [],
   "source": [
    "plot_octave(data, samplerate, [50,63,125,160,200,250,315,400], ['bak'])"
   ]
  },
  {
   "cell_type": "markdown",
   "metadata": {},
   "source": [
    "## Southbound\n",
    "### peaks mainly 200 and 250, with little bits 160 and 315\n",
    "## Northbound\n",
    "### peaks only really 125 and 160"
   ]
  },
  {
   "cell_type": "markdown",
   "metadata": {},
   "source": [
    "## SOUTHBOUND\n",
    "### (light brown)"
   ]
  },
  {
   "cell_type": "code",
   "execution_count": null,
   "metadata": {},
   "outputs": [],
   "source": [
    "plot_custom_bands(data, samplerate, [(150,160),(160,170),(170,180),(180,190),(190,200),(200,210),(210,220),(220,230),(230,240),(240,250)], ['bak'])"
   ]
  },
  {
   "cell_type": "markdown",
   "metadata": {},
   "source": [
    "### suggests peaks at 190-210 and 230-240"
   ]
  },
  {
   "cell_type": "code",
   "execution_count": null,
   "metadata": {},
   "outputs": [],
   "source": [
    "plot_custom_bands(data, samplerate, [(185,190),(190,195),(195,200),(200,205),(205,210)], ['bak'])"
   ]
  },
  {
   "cell_type": "markdown",
   "metadata": {},
   "source": [
    "### therefore emphasis on 195-205"
   ]
  },
  {
   "cell_type": "code",
   "execution_count": null,
   "metadata": {},
   "outputs": [],
   "source": [
    "plot_custom_bands(data, samplerate, [(220,225),(225,230),(230,235),(235,240),(240,245),(245,250)], ['bak'])"
   ]
  },
  {
   "cell_type": "markdown",
   "metadata": {},
   "source": [
    "### best peaks at 235-245"
   ]
  },
  {
   "cell_type": "markdown",
   "metadata": {},
   "source": [
    "## NORTHBOUND\n",
    "### (dark brown)"
   ]
  },
  {
   "cell_type": "code",
   "execution_count": null,
   "metadata": {},
   "outputs": [],
   "source": [
    "plot_custom_bands(data, samplerate, [(80,100),(100,120),(120,140),(140,160),(160,180),(180,200)], ['bak'])"
   ]
  },
  {
   "cell_type": "markdown",
   "metadata": {},
   "source": [
    "### refine to 100-160"
   ]
  },
  {
   "cell_type": "code",
   "execution_count": null,
   "metadata": {},
   "outputs": [],
   "source": [
    "plot_custom_bands(data, samplerate, [(100,110),(110,120),(120,130),(130,140),(140,150),(150,160)], ['bak'])"
   ]
  },
  {
   "cell_type": "code",
   "execution_count": null,
   "metadata": {},
   "outputs": [],
   "source": [
    "plot_custom_bands(data, samplerate, [(120,125),(125,130),(130,135),(135,140),(140,145),(145,150),(150,155)], ['bak'])"
   ]
  },
  {
   "cell_type": "code",
   "execution_count": null,
   "metadata": {},
   "outputs": [],
   "source": [
    "plot_custom_bands(data, samplerate, [(63,125),(135,142),(150,200),(200,250)], ['bak'])"
   ]
  },
  {
   "cell_type": "markdown",
   "metadata": {},
   "source": [
    "### peak 135-142 is more prominent as other trains dont continue high trends into that band\n",
    "### maintains this level between 60-200 but drops off above 200"
   ]
  },
  {
   "cell_type": "markdown",
   "metadata": {},
   "source": [
    "### Victoria initial 1/3 octaves"
   ]
  },
  {
   "cell_type": "code",
   "execution_count": null,
   "metadata": {},
   "outputs": [],
   "source": [
    "plot_octave(data, samplerate, [50,63,125,160,200,250,315,400], ['vic'])"
   ]
  },
  {
   "cell_type": "code",
   "execution_count": null,
   "metadata": {},
   "outputs": [],
   "source": []
  },
  {
   "cell_type": "code",
   "execution_count": null,
   "metadata": {},
   "outputs": [],
   "source": []
  }
 ],
 "metadata": {
  "kernelspec": {
   "display_name": "Python 3",
   "language": "python",
   "name": "python3"
  },
  "language_info": {
   "codemirror_mode": {
    "name": "ipython",
    "version": 3
   },
   "file_extension": ".py",
   "mimetype": "text/x-python",
   "name": "python",
   "nbconvert_exporter": "python",
   "pygments_lexer": "ipython3",
   "version": "3.8.3"
  }
 },
 "nbformat": 4,
 "nbformat_minor": 2
}
