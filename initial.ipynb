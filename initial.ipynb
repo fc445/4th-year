{
 "cells": [
  {
   "cell_type": "code",
   "execution_count": null,
   "metadata": {},
   "outputs": [],
   "source": [
    "from features import *\n",
    "import librosa\n",
    "import librosa.display as display\n",
    "import scipy\n",
    "import pandas as pd \n",
    "import numpy as np \n",
    "import matplotlib.pyplot as plt\n",
    "from model_02_functions import *\n",
    "import sklearn\n",
    "from train_period_checker import max_pooling\n",
    "import matplotlib.colors as colors\n",
    "from timetables import trains_in_period\n",
    "from wavfile_manipulations import extract_wavfile_and_date\n",
    "from octave_band import *\n",
    "from initial_functions import *"
   ]
  },
  {
   "cell_type": "code",
   "execution_count": null,
   "metadata": {},
   "outputs": [],
   "source": [
    "def logit(x):\n",
    "    e = np.exp(x)\n",
    "    return e/(1+e)"
   ]
  },
  {
   "cell_type": "code",
   "execution_count": null,
   "metadata": {},
   "outputs": [],
   "source": [
    "x = np.linspace(-10,10,10000)\n",
    "y = [logit(i) for i in x]\n",
    "fig = plt.figure(figsize=(8,4.5))\n",
    "plt.plot(x,y,color='#E32017',lw=2)\n",
    "plt.xlim(-10,10)\n",
    "plt.ylim(0,1)\n",
    "plt.savefig('final_figures/initial/sigmoid',dpi=200)\n",
    "plt.show()"
   ]
  },
  {
   "cell_type": "code",
   "execution_count": null,
   "metadata": {},
   "outputs": [],
   "source": [
    "fig = plt.figure(figsize=(8,4.5))\n",
    "x = np.random.rand(1,20)[0]\n",
    "y = np.random.rand(1,20)[0]\n",
    "a = np.linspace(-10,10,10000)\n",
    "b = [0.5*i +0.2 for i in a]\n",
    "x1 = []\n",
    "x2 = []\n",
    "y1 = []\n",
    "y2 = []\n",
    "for x0, y0 in zip(x,y):\n",
    "    if y0 > (0.2+0.5*x0):\n",
    "        x1.append(x0)\n",
    "        y1.append(y0)\n",
    "    else:\n",
    "        x2.append(x0)\n",
    "        y2.append(y0)\n",
    "plt.scatter(x1,y1,color='#0098D4',marker='o')\n",
    "plt.scatter(x2,y2,color='#0098D4',marker='^')\n",
    "plt.plot(a,b,color='#e32017')\n",
    "plt.xlim(0,1)\n",
    "plt.ylim(0,1)\n",
    "plt.xticks([])\n",
    "plt.yticks([])\n",
    "plt.savefig('final_figures/initial/decisionboundary',dpi=200)\n",
    "plt.show()"
   ]
  },
  {
   "cell_type": "code",
   "execution_count": null,
   "metadata": {},
   "outputs": [],
   "source": [
    "\n",
    "fig = plt.figure(figsize=(8,4.5))\n",
    "x = np.random.rand(1,20)[0]\n",
    "y = np.random.rand(1,20)[0]\n",
    "a = np.linspace(-10,10,10000)\n",
    "b = [0.5*i +0.2 for i in a]\n",
    "b1 = [0.5*i +0.3 for i in a]\n",
    "b2 = [0.5*i +0.1 for i in a]\n",
    "x1 = []\n",
    "x2 = []\n",
    "y1 = []\n",
    "y2 = []\n",
    "for x0, y0 in zip(x,y):\n",
    "    if y0 > (0.3+0.5*x0):\n",
    "        x1.append(x0)\n",
    "        y1.append(y0)\n",
    "    elif y0 < (0.1+0.5*x0):\n",
    "        x2.append(x0)\n",
    "        y2.append(y0)\n",
    "plt.scatter(x1,y1,color='#0098D4',marker='o')\n",
    "plt.scatter(0.2,0.4,color='#0098D4',marker='o')\n",
    "plt.scatter(x2,y2,color='#0098D4',marker='^')\n",
    "plt.scatter(0.6,0.4,color='#0098D4',marker='^')\n",
    "plt.plot(a,b,color='#e32017',ls='dashed')\n",
    "plt.plot(a,b1,color='#e32017',ls='dotted')\n",
    "plt.plot(a,b2,color='#e32017',ls='dotted')\n",
    "plt.annotate('Support Vector', xy=(0.2, 0.4),  xycoords='data',\n",
    "            xytext=(0.3, 0.7), textcoords='axes fraction',\n",
    "            arrowprops=dict(facecolor='black', shrink=0.05),\n",
    "            horizontalalignment='right', verticalalignment='top',\n",
    "            )\n",
    "plt.annotate('Support Vector', xy=(0.6, 0.4),  xycoords='data',\n",
    "            xytext=(0.7, 0.2), textcoords='axes fraction',\n",
    "            arrowprops=dict(facecolor='black', shrink=0.1),\n",
    "            horizontalalignment='right', verticalalignment='top',\n",
    "            )\n",
    "plt.xlim(0,1)\n",
    "plt.ylim(0,1)\n",
    "plt.xticks([])\n",
    "plt.yticks([])\n",
    "plt.savefig('final_figures/initial/SVM',dpi=200)\n",
    "plt.show()"
   ]
  },
  {
   "cell_type": "code",
   "execution_count": null,
   "metadata": {},
   "outputs": [],
   "source": [
    "\n",
    "fig = plt.figure(figsize=(8,4.5))\n",
    "x = np.random.rand(1,200)[0]\n",
    "y = np.random.rand(1,200)[0]\n",
    "a = np.linspace(-10,10,10000)\n",
    "b = [0.5*i +0.2 for i in a]\n",
    "b1 = [0.5*i +0.25 for i in a]\n",
    "b2 = [0.5*i +0.15 for i in a]\n",
    "b3 = [0.5*i +0.5 for i in a]\n",
    "b4 = [0.5*i -0.1 for i in a]\n",
    "x1 = []\n",
    "x2 = []\n",
    "y1 = []\n",
    "y2 = []\n",
    "for x0, y0 in zip(x,y):\n",
    "    if (y0 > (0.5+0.5*x0)):\n",
    "        x1.append(x0)\n",
    "        y1.append(y0)\n",
    "    elif y0 < (-0.1+0.5*x0):\n",
    "        x2.append(x0)\n",
    "        y2.append(y0)\n",
    "plt.scatter(x1,y1,color='#0098D4',marker='o')\n",
    "plt.scatter(0.2,0.35,color='#0098D4',marker='o')\n",
    "plt.scatter(x2,y2,color='#0098D4',marker='^')\n",
    "plt.scatter(0.6,0.45,color='#0098D4',marker='^')\n",
    "plt.plot(a,b,color='#e32017',ls='dashed')\n",
    "plt.plot(a,b1,color='#e32017',ls='dotted')\n",
    "plt.plot(a,b2,color='#e32017',ls='dotted')\n",
    "plt.plot(a,b3,color='green',ls='solid')\n",
    "plt.plot(a,b4,color='green',ls='solid')\n",
    "plt.xlim(0,1)\n",
    "plt.ylim(0,1)\n",
    "plt.xticks([])\n",
    "plt.yticks([])\n",
    "plt.savefig('final_figures/initial/SVMoutlier',dpi=200)\n",
    "plt.show()"
   ]
  },
  {
   "cell_type": "markdown",
   "metadata": {},
   "source": [
    "# Results"
   ]
  },
  {
   "cell_type": "code",
   "execution_count": null,
   "metadata": {},
   "outputs": [],
   "source": [
    "store = pd.HDFStore('initial_datasets/final1.h5')"
   ]
  },
  {
   "cell_type": "code",
   "execution_count": null,
   "metadata": {},
   "outputs": [],
   "source": [
    "hours=['00','01','02','03','04','05','06','07','08','09','10','11','12','13']"
   ]
  },
  {
   "cell_type": "code",
   "execution_count": null,
   "metadata": {},
   "outputs": [],
   "source": [
    "trains_array_cen_eas = find_train_trainbar_array_datetime('judged_timetables/judged_windows_cen_eas.csv')\n",
    "trains_array_cen_wes = find_train_trainbar_array_datetime('judged_timetables/judged_windows_cen_wes.csv')\n",
    "trains_array_bak_sou = find_train_trainbar_array_datetime('judged_timetables/judged_windows_bak_sou.csv')\n",
    "trains_array_bak_nor = find_train_trainbar_array_datetime('judged_timetables/judged_windows_bak_nor.csv')\n",
    "trains_array_vic_sou = find_train_trainbar_array_datetime('judged_timetables/judged_windows_vic_sou.csv')\n",
    "trains_array_vic_nor = find_train_trainbar_array_datetime('judged_timetables/judged_windows_vic_nor.csv')"
   ]
  },
  {
   "cell_type": "code",
   "execution_count": null,
   "metadata": {},
   "outputs": [],
   "source": [
    "print(trains_array_vic_nor)"
   ]
  },
  {
   "cell_type": "code",
   "execution_count": null,
   "metadata": {},
   "outputs": [],
   "source": [
    "trains_array={'cen_eas':trains_array_cen_eas, 'cen_wes':trains_array_cen_wes, 'bak_sou':trains_array_bak_sou, 'bak_nor':trains_array_bak_nor, 'vic_sou':trains_array_vic_sou, 'vic_nor':trains_array_vic_nor}"
   ]
  },
  {
   "cell_type": "code",
   "execution_count": null,
   "metadata": {},
   "outputs": [],
   "source": [
    "print(len(trains_array_cen_eas[0]))\n",
    "print(len(trains_array_cen_eas))"
   ]
  },
  {
   "cell_type": "code",
   "execution_count": null,
   "metadata": {},
   "outputs": [],
   "source": [
    "hours=['00','01','02','03','04','05','06','07','08','09','10','11','12','13']\n",
    "data = rolling_output_with_labels_02(hours=hours, trains_array=trains_array, samplerate=3200, interval=10, lag=5)"
   ]
  },
  {
   "cell_type": "code",
   "execution_count": null,
   "metadata": {},
   "outputs": [],
   "source": [
    "store['first'] = data\n",
    "store.close()"
   ]
  },
  {
   "cell_type": "markdown",
   "metadata": {},
   "source": [
    "# start again here"
   ]
  },
  {
   "cell_type": "code",
   "execution_count": null,
   "metadata": {},
   "outputs": [],
   "source": [
    "store = pd.HDFStore('initial_datasets/final1.h5')"
   ]
  },
  {
   "cell_type": "code",
   "execution_count": null,
   "metadata": {},
   "outputs": [],
   "source": [
    "data = store['first']"
   ]
  },
  {
   "cell_type": "code",
   "execution_count": null,
   "metadata": {},
   "outputs": [],
   "source": [
    "print(data)"
   ]
  },
  {
   "cell_type": "code",
   "execution_count": null,
   "metadata": {},
   "outputs": [],
   "source": [
    "print(data['cent'])"
   ]
  },
  {
   "cell_type": "code",
   "execution_count": null,
   "metadata": {},
   "outputs": [],
   "source": [
    "plt.plot(np.array(data['cent']))\n",
    "print(len(data['cent']))"
   ]
  },
  {
   "cell_type": "code",
   "execution_count": null,
   "metadata": {},
   "outputs": [],
   "source": [
    "print(data[data.cen_eas==1].count())\n",
    "print(data[data.cen_wes==1].count())\n",
    "print(data[data.bak_sou==1].count())\n",
    "print(data[data.bak_nor==1].count())\n",
    "print(data[data.vic_sou==1].count())\n",
    "print(data[data.vic_nor==1].count())"
   ]
  },
  {
   "cell_type": "code",
   "execution_count": null,
   "metadata": {},
   "outputs": [],
   "source": [
    "output_vic_sou = []\n",
    "starts = range(0,(3600-10),5)\n",
    "for hour in trains_array_vic_sou:\n",
    "    for start in starts:\n",
    "        end = start + 10\n",
    "        mean = np.mean(hour[int(start):int(end)])\n",
    "        if mean > 0.5:\n",
    "            output_vic_sou.append(1)\n",
    "        else:\n",
    "            output_vic_sou.append(0)"
   ]
  },
  {
   "cell_type": "code",
   "execution_count": null,
   "metadata": {},
   "outputs": [],
   "source": [
    "output_vic_nor = []\n",
    "starts = range(0,(3600-10),5)\n",
    "for hour in trains_array_vic_nor:\n",
    "    for start in starts:\n",
    "        end = start + 10\n",
    "        mean = np.mean(hour[int(start):int(end)])\n",
    "        if mean > 0.5:\n",
    "            output_vic_nor.append(1)\n",
    "        else:\n",
    "            output_vic_nor.append(0)"
   ]
  },
  {
   "cell_type": "code",
   "execution_count": null,
   "metadata": {},
   "outputs": [],
   "source": [
    "print(len(output_vic_nor))"
   ]
  },
  {
   "cell_type": "code",
   "execution_count": null,
   "metadata": {},
   "outputs": [],
   "source": [
    "data=data.drop('prom',axis=1)"
   ]
  },
  {
   "cell_type": "code",
   "execution_count": null,
   "metadata": {},
   "outputs": [],
   "source": [
    "data['vic_sou'] = output_vic_sou\n",
    "data['vic_nor'] = output_vic_nor"
   ]
  },
  {
   "cell_type": "code",
   "execution_count": null,
   "metadata": {},
   "outputs": [],
   "source": [
    "data"
   ]
  },
  {
   "cell_type": "code",
   "execution_count": null,
   "metadata": {},
   "outputs": [],
   "source": [
    "print(data[data.cen_eas==1].count())\n",
    "print(data[data.cen_wes==1].count())\n",
    "print(data[data.bak_sou==1].count())\n",
    "print(data[data.bak_nor==1].count())\n",
    "print(data[data.vic_sou==1].count())\n",
    "print(data[data.vic_nor==1].count())"
   ]
  },
  {
   "cell_type": "code",
   "execution_count": null,
   "metadata": {},
   "outputs": [],
   "source": [
    "store['first'] = data"
   ]
  },
  {
   "cell_type": "code",
   "execution_count": null,
   "metadata": {},
   "outputs": [],
   "source": [
    "store.close()"
   ]
  },
  {
   "cell_type": "markdown",
   "metadata": {},
   "source": [
    "# add final column "
   ]
  },
  {
   "cell_type": "code",
   "execution_count": null,
   "metadata": {},
   "outputs": [],
   "source": [
    "store = pd.HDFStore('initial_datasets/final1.h5')\n",
    "data = store['first']"
   ]
  },
  {
   "cell_type": "code",
   "execution_count": null,
   "metadata": {},
   "outputs": [],
   "source": [
    "print(data['cen_eas'][10051])"
   ]
  },
  {
   "cell_type": "code",
   "execution_count": null,
   "metadata": {},
   "outputs": [],
   "source": [
    "train = []\n",
    "for i in range(len(data['cent'])):\n",
    "    summ = sum([data['cen_eas'][i],data['cen_wes'][i],data['bak_sou'][i],data['bak_nor'][i],data['vic_sou'][i],data['vic_nor'][i]])\n",
    "    if summ == 0:\n",
    "        train.append(0)\n",
    "    else:\n",
    "        train.append(1)\n",
    "print(len(train))"
   ]
  },
  {
   "cell_type": "code",
   "execution_count": null,
   "metadata": {},
   "outputs": [],
   "source": [
    "new_data = data\n",
    "new_data['train'] = train"
   ]
  },
  {
   "cell_type": "code",
   "execution_count": null,
   "metadata": {},
   "outputs": [],
   "source": [
    "data['train']=train"
   ]
  },
  {
   "cell_type": "code",
   "execution_count": null,
   "metadata": {},
   "outputs": [],
   "source": [
    "new_data = data.drop(['cen_eas','cen_wes','bak_sou','bak_nor','vic_sou','vic_nor'],axis=1).sample(frac=1).reset_index(drop=True)\n",
    "new_data"
   ]
  },
  {
   "cell_type": "code",
   "execution_count": null,
   "metadata": {},
   "outputs": [],
   "source": [
    "print(new_data[new_data.train==1].count())\n",
    "print(new_data[new_data.train==0].count())"
   ]
  },
  {
   "cell_type": "code",
   "execution_count": null,
   "metadata": {},
   "outputs": [],
   "source": [
    "count=0\n",
    "for i in train:\n",
    "    if i==1:\n",
    "        count+=1\n",
    "print(count)"
   ]
  },
  {
   "cell_type": "markdown",
   "metadata": {},
   "source": [
    "## find balanced data set"
   ]
  },
  {
   "cell_type": "code",
   "execution_count": null,
   "metadata": {},
   "outputs": [],
   "source": [
    "final = pd.concat([data[data.train==1],data[data.train==0].sample(1477)],ignore_index=True).sample(frac=1).reset_index(drop=True)"
   ]
  },
  {
   "cell_type": "code",
   "execution_count": null,
   "metadata": {},
   "outputs": [],
   "source": [
    "final"
   ]
  },
  {
   "cell_type": "markdown",
   "metadata": {},
   "source": [
    "# try to visualise data first"
   ]
  },
  {
   "cell_type": "code",
   "execution_count": null,
   "metadata": {},
   "outputs": [],
   "source": [
    "plt.figure(figsize=(8,4.5))\n",
    "\n",
    "for i in final[final.train==1].iterrows():\n",
    "    plt.scatter(i[1].rms, i[1].peak, color='#e32017',s=3)\n",
    "plt.scatter(0,0, color='#e32017',label='Train',s=3)\n",
    "for i in final[final.train==0].iterrows():\n",
    "    plt.scatter(i[1].rms, i[1].peak, color='#0098D4',s=3)\n",
    "plt.scatter(0,0, color='#0098D4',label='No Train',s=3)\n",
    "plt.ylabel('Peak Value')\n",
    "plt.xlabel('RMS')\n",
    "plt.legend(loc='upper right')\n",
    "plt.savefig('final_figures/initial/rms_peak',dpi=200)\n",
    "plt.show()"
   ]
  },
  {
   "cell_type": "code",
   "execution_count": null,
   "metadata": {},
   "outputs": [],
   "source": [
    "plt.figure(figsize=(8,4.5))\n",
    "\n",
    "for i in final[final.train==1].iterrows():\n",
    "    plt.scatter(i[1].zcr, i[1].ste, color='#e32017',s=3)\n",
    "plt.scatter(0,0, color='#e32017',label='Train',s=3)\n",
    "for i in final[final.train==0].iterrows():\n",
    "    plt.scatter(i[1].zcr, i[1].ste, color='#0098D4',s=3)\n",
    "plt.scatter(0,0, color='#0098D4',label='No Train',s=3)\n",
    "plt.ylabel('Short Time Energy')\n",
    "plt.xlabel('Zero Crossing Rate')\n",
    "plt.legend(loc='upper right')\n",
    "plt.savefig('final_figures/initial/ste_zcr',dpi=200)\n",
    "plt.show()"
   ]
  },
  {
   "cell_type": "code",
   "execution_count": null,
   "metadata": {},
   "outputs": [],
   "source": [
    "plt.figure(figsize=(8,4.5))\n",
    "\n",
    "for i in final[final.train==1].iterrows():\n",
    "    plt.scatter(i[1].cent, i[1].rolloff, color='#e32017',s=3)\n",
    "plt.scatter(0,0, color='#e32017',label='Train',s=3)\n",
    "for i in final[final.train==0].iterrows():\n",
    "    plt.scatter(i[1].cent, i[1].rolloff, color='#0098D4',s=3)\n",
    "plt.scatter(0,0, color='#0098D4',label='No Train',s=3)\n",
    "plt.ylabel('Spectral Rolloff')\n",
    "plt.xlabel('Spectral Centroid')\n",
    "plt.legend(loc='upper right')\n",
    "plt.savefig('final_figures/initial/cent_rolloff',dpi=200)\n",
    "plt.show()"
   ]
  },
  {
   "cell_type": "markdown",
   "metadata": {},
   "source": [
    "# PCA"
   ]
  },
  {
   "cell_type": "code",
   "execution_count": null,
   "metadata": {},
   "outputs": [],
   "source": [
    "data"
   ]
  },
  {
   "cell_type": "code",
   "execution_count": null,
   "metadata": {},
   "outputs": [],
   "source": [
    "from sklearn.decomposition import PCA\n",
    "pca = PCA(n_components=3)"
   ]
  },
  {
   "cell_type": "code",
   "execution_count": null,
   "metadata": {},
   "outputs": [],
   "source": [
    "X = np.array(final.drop(['train'],axis=1))\n",
    "Y = np.array(final.train)"
   ]
  },
  {
   "cell_type": "code",
   "execution_count": null,
   "metadata": {},
   "outputs": [],
   "source": [
    "principle_components = pd.DataFrame(pca.fit_transform(X,y=Y),columns=['pc1','pc2','pc3'])\n",
    "principle_components['train'] = Y"
   ]
  },
  {
   "cell_type": "code",
   "execution_count": null,
   "metadata": {},
   "outputs": [],
   "source": [
    "print(principle_components)\n",
    "pca.explained_variance_ratio_"
   ]
  },
  {
   "cell_type": "code",
   "execution_count": null,
   "metadata": {},
   "outputs": [],
   "source": [
    "plt.figure(figsize=(8,4.5))\n",
    "\n",
    "for i in principle_components[principle_components.train==1].iterrows():\n",
    "    plt.scatter(i[1].pc1, i[1].pc2, color='#e32017',s=3)\n",
    "plt.scatter(0,0, color='#e32017',label='Train',s=3)\n",
    "for i in principle_components[principle_components.train==0].iterrows():\n",
    "    plt.scatter(i[1].pc1, i[1].pc2, color='#0098D4',s=3)\n",
    "plt.scatter(0,0, color='#0098D4',label='No Train',s=3)\n",
    "plt.ylabel('Principle Component 2')\n",
    "plt.xlabel('Principle Component 1')\n",
    "plt.legend(loc='upper right')\n",
    "plt.savefig('final_figures/initial/pca1',dpi=200)\n",
    "plt.show()"
   ]
  },
  {
   "cell_type": "code",
   "execution_count": null,
   "metadata": {},
   "outputs": [],
   "source": [
    "plt.figure(figsize=(8,4.5))\n",
    "\n",
    "for i in principle_components[principle_components.train==1].iterrows():\n",
    "    plt.scatter(i[1].pc1, i[1].pc3, color='#e32017',s=3)\n",
    "plt.scatter(0,0, color='#e32017',label='Train',s=3)\n",
    "for i in principle_components[principle_components.train==0].iterrows():\n",
    "    plt.scatter(i[1].pc1, i[1].pc3, color='#0098D4',s=3)\n",
    "plt.scatter(0,0, color='#0098D4',label='No Train',s=3)\n",
    "plt.ylabel('Principle Component 3')\n",
    "plt.xlabel('Principle Component 1')\n",
    "plt.legend(loc='upper right')\n",
    "plt.savefig('final_figures/initial/pca2',dpi=200)\n",
    "plt.show()"
   ]
  },
  {
   "cell_type": "markdown",
   "metadata": {},
   "source": [
    "# GMM"
   ]
  },
  {
   "cell_type": "code",
   "execution_count": null,
   "metadata": {},
   "outputs": [],
   "source": [
    "store = pd.HDFStore('initial_datasets/final1.h5')\n",
    "\n",
    "data = store['first']"
   ]
  },
  {
   "cell_type": "code",
   "execution_count": null,
   "metadata": {},
   "outputs": [],
   "source": [
    "data['no_train']=[1 if i==0 else 0 for i in train]"
   ]
  },
  {
   "cell_type": "code",
   "execution_count": null,
   "metadata": {},
   "outputs": [],
   "source": [
    "data['train']=train"
   ]
  },
  {
   "cell_type": "code",
   "execution_count": null,
   "metadata": {},
   "outputs": [],
   "source": [
    "data"
   ]
  },
  {
   "cell_type": "code",
   "execution_count": null,
   "metadata": {},
   "outputs": [],
   "source": [
    "data = data.drop(['cen_eas','cen_wes','bak_sou','bak_nor','vic_sou','vic_nor'],axis=1)"
   ]
  },
  {
   "cell_type": "code",
   "execution_count": null,
   "metadata": {},
   "outputs": [],
   "source": [
    "X = np.array(data.drop(['cen_eas','cen_wes','bak_sou','bak_nor','vic_sou','vic_nor','no_train','train'],axis=1))\n",
    "Y = np.array(data.drop(['zcr','ste','rms','peak','cent','rolloff'],axis=1))"
   ]
  },
  {
   "cell_type": "code",
   "execution_count": null,
   "metadata": {},
   "outputs": [],
   "source": [
    "len(X[0])"
   ]
  },
  {
   "cell_type": "code",
   "execution_count": null,
   "metadata": {},
   "outputs": [],
   "source": [
    "print(718*12)\n",
    "print(718*13)\n",
    "print(len(final)/14)\n",
    "print(211*12)\n",
    "print(211*13)"
   ]
  },
  {
   "cell_type": "code",
   "execution_count": null,
   "metadata": {},
   "outputs": [],
   "source": [
    "from sklearn.mixture import GaussianMixture\n",
    "import time"
   ]
  },
  {
   "cell_type": "code",
   "execution_count": null,
   "metadata": {},
   "outputs": [],
   "source": [
    "starttime = time.process_time()\n",
    "gmm = GaussianMixture(n_components=7, random_state=0).fit(X[:8616])\n",
    "print('time taken: '+str(time.process_time()-starttime))\n",
    "starttime = time.process_time()\n",
    "labels = gmm.predict(X[8616:9334])\n",
    "print('time taken: '+str(time.process_time()-starttime))"
   ]
  },
  {
   "cell_type": "code",
   "execution_count": null,
   "metadata": {},
   "outputs": [],
   "source": [
    "print(labels)"
   ]
  },
  {
   "cell_type": "code",
   "execution_count": null,
   "metadata": {},
   "outputs": [],
   "source": [
    "def expand_singles(array):\n",
    "    output = []\n",
    "    for i in array:\n",
    "        if i==1:\n",
    "            for j in range(5):\n",
    "                output.append(1)\n",
    "        else:\n",
    "            for j in range(5):\n",
    "                output.append(0)\n",
    "    return output"
   ]
  },
  {
   "cell_type": "code",
   "execution_count": null,
   "metadata": {},
   "outputs": [],
   "source": [
    "data13, time = extract_wavfile_and_date('train_recordings/hour1301.wav', samplerate=3200)\n",
    "data07, time = extract_wavfile_and_date('train_recordings/hour0701.wav', samplerate=3200)"
   ]
  },
  {
   "cell_type": "code",
   "execution_count": null,
   "metadata": {},
   "outputs": [],
   "source": [
    "times = trains_in_period(['cen_eas','cen_wes','bak_nor','bak_sou','vic_nor','vic_sou'],time)"
   ]
  },
  {
   "cell_type": "code",
   "execution_count": null,
   "metadata": {},
   "outputs": [],
   "source": [
    "print(times)"
   ]
  },
  {
   "cell_type": "code",
   "execution_count": null,
   "metadata": {},
   "outputs": [],
   "source": [
    "fig = plt.figure(figsize=(8,4.5))\n",
    "train_audio = moving_average(abs(return_octave_filtered(data13,samplerate=3200,octave_band=125)),1500)\n",
    "t = np.linspace(0,3600,len(train_audio))\n",
    "plt.xlabel('Time ($s$)')\n",
    "plt.ylabel('Amplitude ($V$)')\n",
    "plt.xlim([0,600])\n",
    "plt.ylim([0,0.0015])\n",
    "plt.plot(t,train_audio,color='#0098D4',lw=0.3)\n",
    "\"\"\"for i in times:\n",
    "    for j in times[i]:\n",
    "        plt.axvline(j,color='#E32017',lw=2.5,alpha=1)\n",
    "plt.axvline(times['cen_eas'][0],color='#E32017',lw=2.5,alpha=1,label='Expected Train')\"\"\"\n",
    "plt.plot([0.001*i for i in expand_singles(labels)], color='#E32017')\n",
    "plt.legend(loc='upper right')\n",
    "#plt.savefig('final_figures/approach/original_waveform_plus_times_1',dpi=200)\n",
    "plt.show()"
   ]
  },
  {
   "cell_type": "code",
   "execution_count": null,
   "metadata": {},
   "outputs": [],
   "source": [
    "def find_confusion(pred, act):\n",
    "    tru_pos = 0\n",
    "    tru_neg = 0\n",
    "    fal_pos = 0\n",
    "    fal_neg = 0\n",
    "    for i,j in zip(pred,act):\n",
    "        if i==j:\n",
    "            if i==1:\n",
    "                tru_pos+=1\n",
    "            else:\n",
    "                tru_neg+=1\n",
    "        else:\n",
    "            if i==1:\n",
    "                fal_pos+=1\n",
    "            else:\n",
    "                fal_neg+=1\n",
    "    return [tru_pos,tru_neg,fal_pos,fal_neg]\n",
    "    "
   ]
  },
  {
   "cell_type": "code",
   "execution_count": null,
   "metadata": {},
   "outputs": [],
   "source": [
    "def find_metrics(c):\n",
    "    acc = (c[0]+c[1])/(sum(c))\n",
    "    pre = c[0]/(c[0]+c[2])\n",
    "    rec = c[0]/(c[0]+c[3])\n",
    "    f1 = 2*pre*rec/(pre+rec)\n",
    "    return [acc,pre,rec,f1]"
   ]
  },
  {
   "cell_type": "code",
   "execution_count": null,
   "metadata": {},
   "outputs": [],
   "source": []
  },
  {
   "cell_type": "code",
   "execution_count": null,
   "metadata": {},
   "outputs": [],
   "source": [
    "def cut_train_array(arr,interval=10,lag=5):\n",
    "    output = []\n",
    "    starts = range(0,3600-interval,lag)\n",
    "    for start in starts:\n",
    "        end = start + interval\n",
    "        mean = np.mean(arr[int(start):int(end)])\n",
    "        if mean > 0.5:\n",
    "            output.append(1)\n",
    "        else:\n",
    "            output.append(0)\n",
    "    return output"
   ]
  },
  {
   "cell_type": "code",
   "execution_count": null,
   "metadata": {},
   "outputs": [],
   "source": [
    "conf = find_confusion(labels, train[8616:9334])\n",
    "print(conf)"
   ]
  },
  {
   "cell_type": "code",
   "execution_count": null,
   "metadata": {},
   "outputs": [],
   "source": [
    "print(find_metrics(conf))"
   ]
  },
  {
   "cell_type": "code",
   "execution_count": null,
   "metadata": {},
   "outputs": [],
   "source": [
    "gmm2 = GaussianMixture(n_components=2, covariance_type='spherical').fit(X[:8616])\n",
    "labels2 = gmm.predict(X[8616:9334])"
   ]
  },
  {
   "cell_type": "code",
   "execution_count": null,
   "metadata": {},
   "outputs": [],
   "source": []
  },
  {
   "cell_type": "code",
   "execution_count": null,
   "metadata": {},
   "outputs": [],
   "source": [
    "conf = find_confusion(labels2, train[8616:9334])\n",
    "print(find_metrics(conf))"
   ]
  },
  {
   "cell_type": "markdown",
   "metadata": {},
   "source": [
    "# SVM"
   ]
  },
  {
   "cell_type": "code",
   "execution_count": null,
   "metadata": {},
   "outputs": [],
   "source": [
    "from sklearn import svm"
   ]
  },
  {
   "cell_type": "code",
   "execution_count": null,
   "metadata": {},
   "outputs": [],
   "source": [
    "data['train']=train"
   ]
  },
  {
   "cell_type": "code",
   "execution_count": null,
   "metadata": {},
   "outputs": [],
   "source": [
    "XY = np.array(final)\n",
    "XYt = np.array(data)"
   ]
  },
  {
   "cell_type": "code",
   "execution_count": null,
   "metadata": {},
   "outputs": [],
   "source": [
    "len(XY[0])"
   ]
  },
  {
   "cell_type": "code",
   "execution_count": null,
   "metadata": {},
   "outputs": [],
   "source": [
    "X_svm = XY[:,:6]\n",
    "Y_svm = XY[:,-1]\n",
    "Xt = XYt[:,:6]\n",
    "Yt = XYt[:,-1]"
   ]
  },
  {
   "cell_type": "code",
   "execution_count": null,
   "metadata": {},
   "outputs": [],
   "source": [
    "len(Y_svm)"
   ]
  },
  {
   "cell_type": "code",
   "execution_count": null,
   "metadata": {},
   "outputs": [],
   "source": [
    "import time"
   ]
  },
  {
   "cell_type": "code",
   "execution_count": null,
   "metadata": {},
   "outputs": [],
   "source": [
    "starttime = time.process_time()\n",
    "clf = svm.SVC(probability=True)\n",
    "clf.fit(X_svm,Y_svm)\n",
    "print('time taken: '+str(time.process_time()-starttime))"
   ]
  },
  {
   "cell_type": "code",
   "execution_count": null,
   "metadata": {},
   "outputs": [],
   "source": [
    "starttime = time.process_time()\n",
    "labels_svm = clf.predict_proba(X_svm[:500])\n",
    "print('time taken: '+str(time.process_time()-starttime))"
   ]
  },
  {
   "cell_type": "code",
   "execution_count": null,
   "metadata": {},
   "outputs": [],
   "source": [
    "def find_this(labels, thres):\n",
    "    output=[]\n",
    "    for i in labels:\n",
    "        if i[0]<thres:\n",
    "            output.append(0)\n",
    "        else:\n",
    "            output.append(1)\n",
    "    return output"
   ]
  },
  {
   "cell_type": "code",
   "execution_count": null,
   "metadata": {},
   "outputs": [],
   "source": [
    "conf = find_confusion(labels_svm, Y_svm[:500])\n",
    "print(find_metrics(conf))"
   ]
  },
  {
   "cell_type": "code",
   "execution_count": null,
   "metadata": {},
   "outputs": [],
   "source": [
    "svm_lim = np.linspace(0,1,1000)\n",
    "svm_fp = []\n",
    "svm_fn = []\n",
    "svm_tp = []\n",
    "svm_tn = []\n",
    "for i in svm_lim:\n",
    "    con = find_confusion(find_this(labels_svm,i),Y_svm[:500])\n",
    "    svm_fp.append(con[2])\n",
    "    svm_fn.append(con[3])\n",
    "    svm_tp.append(con[0])\n",
    "    svm_tn.append(con[1])"
   ]
  },
  {
   "cell_type": "code",
   "execution_count": null,
   "metadata": {},
   "outputs": [],
   "source": [
    "fig = plt.figure(figsize=(8,4.5))\n",
    "plt.plot(svm_lim,svm_fp,color='#e32017',label='False Positives')\n",
    "plt.plot(svm_lim,svm_fn,color='#0098d4',label='False Negative')\n",
    "#plt.plot(svm_lim,svm_tn)\n",
    "#plt.plot(svm_lim,svm_tp)\n",
    "plt.legend()\n",
    "plt.xlabel('Threshold')\n",
    "plt.ylabel('Count')\n",
    "plt.savefig('final_figures/initial/threshold',dpi=200)\n",
    "plt.show()"
   ]
  },
  {
   "cell_type": "code",
   "execution_count": null,
   "metadata": {},
   "outputs": [],
   "source": [
    "try_pred0 = find_this(try_pred,0.82)"
   ]
  },
  {
   "cell_type": "code",
   "execution_count": null,
   "metadata": {},
   "outputs": [],
   "source": [
    "conf = find_confusion(find_this(labels_svm,0.3),Y_svm[:500])\n",
    "print(conf)"
   ]
  },
  {
   "cell_type": "code",
   "execution_count": null,
   "metadata": {},
   "outputs": [],
   "source": [
    "import seaborn as sns"
   ]
  },
  {
   "cell_type": "code",
   "execution_count": null,
   "metadata": {},
   "outputs": [],
   "source": [
    "cf_matrix = [[43,196],[175,86]]\n",
    "fig = plt.figure(figsize=(8,4.5))\n",
    "x_label = ['Train','No Train']\n",
    "sns.heatmap(cf_matrix,annot=True,fmt='g',cmap='Blues',xticklabels=x_label,yticklabels=x_label,cbar=False)\n",
    "plt.xlabel('Predicted')\n",
    "plt.ylabel('Actual')\n",
    "plt.savefig('final_figures/initial/thresholdconfusion0',dpi=200)\n",
    "plt.show()"
   ]
  },
  {
   "cell_type": "code",
   "execution_count": null,
   "metadata": {},
   "outputs": [],
   "source": [
    "fig = plt.figure(figsize=(8,4.5))\n",
    "train_audio = moving_average(abs(return_octave_filtered(data07,samplerate=3200,octave_band=125)),1500)\n",
    "t = np.linspace(0,3600,len(train_audio))\n",
    "plt.xlabel('Time ($s$)')\n",
    "plt.ylabel('Amplitude ($V$)')\n",
    "plt.xlim([0,600])\n",
    "plt.ylim([0,0.0015])\n",
    "plt.plot(t,train_audio,color='#0098D4',lw=0.3)\n",
    "\"\"\"for i in times:\n",
    "    for j in times[i]:\n",
    "        plt.axvline(j,color='#E32017',lw=2.5,alpha=1)\n",
    "plt.axvline(times['cen_eas'][0],color='#E32017',lw=2.5,alpha=1,label='Expected Train')\"\"\"\n",
    "plt.plot(np.linspace(0,3600,718),[0.001*i for i in try_pred0], color='#E32017')\n",
    "plt.legend(loc='upper right')\n",
    "#plt.savefig('final_figures/approach/original_waveform_plus_times_1',dpi=200)\n",
    "plt.show()"
   ]
  },
  {
   "cell_type": "code",
   "execution_count": null,
   "metadata": {},
   "outputs": [],
   "source": [
    "starttime = time.process_time()\n",
    "clf2 = svm.NuSVC()\n",
    "clf2.fit(X_svm[:2532],Y_svm[:2532])\n",
    "print('time taken: '+str(time.process_time()-starttime))"
   ]
  },
  {
   "cell_type": "code",
   "execution_count": null,
   "metadata": {},
   "outputs": [],
   "source": [
    "starttime = time.process_time()\n",
    "labels_svm2 = clf2.predict(X_svm[2532:2743])\n",
    "print('time taken: '+str(time.process_time()-starttime))\n",
    "conf = find_confusion(labels_svm2, Y_svm[2532:2743])\n",
    "print(find_metrics(conf))"
   ]
  },
  {
   "cell_type": "markdown",
   "metadata": {},
   "source": [
    "# stadard linear"
   ]
  },
  {
   "cell_type": "code",
   "execution_count": null,
   "metadata": {},
   "outputs": [],
   "source": [
    "from sklearn.linear_model import SGDClassifier\n",
    "from sklearn.preprocessing import StandardScaler\n",
    "from sklearn.pipeline import make_pipeline"
   ]
  },
  {
   "cell_type": "code",
   "execution_count": null,
   "metadata": {},
   "outputs": [],
   "source": [
    "starttime = time.process_time()\n",
    "clf3 = make_pipeline(StandardScaler(),SGDClassifier(max_iter=1000, tol=1e-3,loss='log'))\n",
    "clf3.fit(X_svm, Y_svm)\n",
    "print('time taken: '+str(time.process_time()-starttime))"
   ]
  },
  {
   "cell_type": "code",
   "execution_count": null,
   "metadata": {},
   "outputs": [],
   "source": [
    "starttime = time.process_time()\n",
    "labels_svm3 = clf3.predict_proba(X_svm[:500])\n",
    "print('time taken: '+str(time.process_time()-starttime))\n"
   ]
  },
  {
   "cell_type": "markdown",
   "metadata": {},
   "source": [
    "# neural network"
   ]
  },
  {
   "cell_type": "code",
   "execution_count": null,
   "metadata": {},
   "outputs": [],
   "source": [
    "import time\n",
    "import matplotlib.pyplot as plt\n",
    "import numpy as np\n",
    "from keras.models import Sequential\n",
    "from keras.layers.core import Dense, Activation\n",
    "from keras.optimizers import SGD\n",
    "from keras.utils import np_utils\n",
    "from sklearn.metrics import confusion_matrix\n",
    "% matplotlib inline\n",
    "np.random.seed(2017)"
   ]
  },
  {
   "cell_type": "code",
   "execution_count": null,
   "metadata": {},
   "outputs": [],
   "source": [
    "model = Sequential()\n",
    "\n",
    "# Keras model with two hidden layer with 10 neurons each \n",
    "model.add(Dense(10, input_shape = (6,)))    # Input layer => input_shape should be explicitly designated\n",
    "model.add(Activation('sigmoid'))\n",
    "model.add(Dense(10))                         # Hidden layer => only output dimension should be designated\n",
    "model.add(Activation('sigmoid'))\n",
    "model.add(Dense(10))                         # Hidden layer => only output dimension should be designated\n",
    "model.add(Activation('sigmoid'))\n",
    "model.add(Dense(1))                          # Output layer => output dimension = 1 since it is regression problem\n",
    "model.add(Activation('sigmoid'))"
   ]
  },
  {
   "cell_type": "code",
   "execution_count": null,
   "metadata": {},
   "outputs": [],
   "source": [
    "sgd = SGD(lr = 0.01)    # stochastic gradient descent optimizer\n",
    "\n",
    "model.compile(optimizer = sgd, loss = 'binary_crossentropy', metrics = ['accuracy'])\n",
    "model.fit(X_svm[:2532], Y_svm[:2532], batch_size = 50, epochs = 100, verbose = 2)\n",
    "\n",
    "#results = model.evaluate(X_test, y_test)"
   ]
  },
  {
   "cell_type": "code",
   "execution_count": null,
   "metadata": {},
   "outputs": [],
   "source": [
    "start = time.time()\n",
    "model_info = model.fit(X_svm, Y_svm, batch_size = 50, epochs = 100, verbose = 2)\n",
    "end = time.time()\n",
    "print(\"Model took %0.2f seconds to train\"%(end - start))"
   ]
  },
  {
   "cell_type": "code",
   "execution_count": null,
   "metadata": {},
   "outputs": [],
   "source": [
    "starttime = time.process_time()\n",
    "y_pred = model.predict(X_svm[2532:2743])\n",
    "print('time taken: '+str(time.process_time()-starttime))"
   ]
  },
  {
   "cell_type": "code",
   "execution_count": null,
   "metadata": {},
   "outputs": [],
   "source": [
    "conf = find_confusion(y_pred, Y_svm[2532:2743])\n",
    "print(conf)\n",
    "print(find_metrics([93,40,50,30]))"
   ]
  },
  {
   "cell_type": "code",
   "execution_count": null,
   "metadata": {},
   "outputs": [],
   "source": [
    "def plot_model_history(model_history):\n",
    "    fig, axs = plt.subplots(1,2,figsize=(15,5))\n",
    "    # summarize history for accuracy\n",
    "    axs[0].plot(range(1,len(model_history.history['accuracy'])+1),model_history.history['accuracy'])\n",
    "    axs[0].plot(range(1,len(model_history.history['val_accuracy'])+1),model_history.history['val_accuracy'])\n",
    "    axs[0].set_title('Model Accuracy')\n",
    "    axs[0].set_ylabel('Accuracy')\n",
    "    axs[0].set_xlabel('Epoch')\n",
    "    axs[0].set_xticks(np.arange(1,len(model_history.history['accuracy'])+1),len(model_history.history['accuracy'])/10)\n",
    "    axs[0].legend(['train', 'val'], loc='best')\n",
    "    # summarize history for loss\n",
    "    axs[1].plot(range(1,len(model_history.history['loss'])+1),model_history.history['loss'])\n",
    "    axs[1].plot(range(1,len(model_history.history['val_loss'])+1),model_history.history['val_loss'])\n",
    "    axs[1].set_title('Model Loss')\n",
    "    axs[1].set_ylabel('Loss')\n",
    "    axs[1].set_xlabel('Epoch')\n",
    "    axs[1].set_xticks(np.arange(1,len(model_history.history['loss'])+1),len(model_history.history['loss'])/10)\n",
    "    axs[1].legend(['train', 'val'], loc='best')\n",
    "    plt.show()"
   ]
  },
  {
   "cell_type": "code",
   "execution_count": null,
   "metadata": {},
   "outputs": [],
   "source": [
    "plot_model_history(model_info)"
   ]
  },
  {
   "cell_type": "markdown",
   "metadata": {},
   "source": [
    "# CNN"
   ]
  },
  {
   "cell_type": "code",
   "execution_count": null,
   "metadata": {},
   "outputs": [],
   "source": [
    "import os\n",
    "import pandas as pd\n",
    "from scipy.io import wavfile\n",
    "from scipy.fftpack import fft\n",
    "from scipy.fftpack import ifft\n",
    "import numpy as np\n",
    "import matplotlib.pyplot as plt \n",
    "import matplotlib.colors as colors\n",
    "import scipy\n",
    "from scipy.signal import welch\n",
    "import librosa\n",
    "import librosa.display\n",
    "from tqdm import tqdm\n",
    "import tensorflow as tf\n",
    "from sklearn.model_selection import train_test_split\n",
    "from sklearn.preprocessing import LabelEncoder\n",
    "from sklearn.metrics import confusion_matrix\n",
    "from keras.utils import to_categorical\n",
    "import keras\n",
    "from keras.models import Sequential\n",
    "from keras import Input, Model, layers\n",
    "from keras.layers import Dense, Dropout, Activation, Flatten\n",
    "from keras.layers import Convolution2D, Conv2D, MaxPooling2D, GlobalAveragePooling2D\n",
    "from keras.optimizers import Adam, SGD\n",
    "from keras.utils import np_utils\n",
    "from sklearn import metrics \n",
    "from keras.callbacks import ModelCheckpoint \n",
    "from datetime import datetime \n",
    "from model_02_functions import find_train_trainbar_array_datetime, rolling_spectrograms_with_labels_02\n",
    "import keras_resnet\n",
    "import random"
   ]
  },
  {
   "cell_type": "code",
   "execution_count": null,
   "metadata": {},
   "outputs": [],
   "source": [
    "store = pd.HDFStore('initial_datasets/final1.h5')\n",
    "data = store['first']\n",
    "store.close()"
   ]
  },
  {
   "cell_type": "code",
   "execution_count": null,
   "metadata": {
    "scrolled": true
   },
   "outputs": [],
   "source": [
    "trains_array_cen_eas = find_train_trainbar_array_datetime('judged_timetables/judged_windows_cen_eas.csv')\n",
    "trains_array_cen_wes = find_train_trainbar_array_datetime('judged_timetables/judged_windows_cen_wes.csv')\n",
    "trains_array_bak_sou = find_train_trainbar_array_datetime('judged_timetables/judged_windows_bak_sou.csv')\n",
    "trains_array_bak_nor = find_train_trainbar_array_datetime('judged_timetables/judged_windows_bak_nor.csv')\n",
    "trains_array_vic_sou = find_train_trainbar_array_datetime('judged_timetables/judged_windows_vic_sou.csv')\n",
    "trains_array_vic_nor = find_train_trainbar_array_datetime('judged_timetables/judged_windows_vic_nor.csv')\n",
    "train = []\n",
    "for i in range(len(data['cent'])):\n",
    "    summ = sum([data['cen_eas'][i],data['cen_wes'][i],data['bak_sou'][i],data['bak_nor'][i],data['vic_sou'][i],data['vic_nor'][i]])\n",
    "    if summ == 0:\n",
    "        train.append(0)\n",
    "    else:\n",
    "        train.append(1)\n",
    "print(len(train))\n",
    "output = []\n",
    "for i in range(14):\n",
    "    output.append(train[i*718:(i+1)*718])\n",
    "train = output\n",
    "print(len(train))"
   ]
  },
  {
   "cell_type": "code",
   "execution_count": null,
   "metadata": {},
   "outputs": [],
   "source": []
  },
  {
   "cell_type": "code",
   "execution_count": null,
   "metadata": {},
   "outputs": [],
   "source": [
    "hours=['00','01','02','03','04','05','06','07','08','09','10','11','12','13']\n",
    "spectro = rolling_spectrograms_with_labels_02(hours=hours, trains_array={'train':train}, samplerate=1000, interval=10, lag=5)"
   ]
  },
  {
   "cell_type": "code",
   "execution_count": null,
   "metadata": {},
   "outputs": [],
   "source": [
    "store = pd.HDFStore('initial_datasets/spectro5.h5')\n",
    "store['first'] = spectro\n",
    "store.close()"
   ]
  },
  {
   "cell_type": "code",
   "execution_count": null,
   "metadata": {},
   "outputs": [],
   "source": [
    "hours=['00','01','02','03','04','05','06','07','08','09','10','11','12','13']\n",
    "trains_array={'train':train}\n",
    "spectro2 = rolling_spectrograms_with_labels_02(hours=hours, trains_array=trains_array, samplerate=3200, interval=10, lag=5)"
   ]
  },
  {
   "cell_type": "code",
   "execution_count": null,
   "metadata": {},
   "outputs": [],
   "source": [
    "store = pd.HDFStore('initial_datasets/spectro.h5')\n",
    "store['first'] = spectro2\n",
    "store.close()"
   ]
  },
  {
   "cell_type": "code",
   "execution_count": null,
   "metadata": {},
   "outputs": [],
   "source": [
    "store = pd.HDFStore('initial_datasets/spectro.h5')\n",
    "spectro2 = store['first']"
   ]
  },
  {
   "cell_type": "code",
   "execution_count": null,
   "metadata": {},
   "outputs": [],
   "source": [
    "def cut_train_arrays(arr,interval=10,lag=5):\n",
    "    fin = []\n",
    "    for i in arr:\n",
    "        output = []\n",
    "        starts = range(0,3600-interval,lag)\n",
    "        for start in starts:\n",
    "            end = start + interval\n",
    "            mean = np.mean(i[int(start):int(end)])\n",
    "            if mean > 0.5:\n",
    "                output.append(1)\n",
    "            else:\n",
    "                output.append(0)\n",
    "        fin.append(output)\n",
    "    return fin"
   ]
  },
  {
   "cell_type": "code",
   "execution_count": null,
   "metadata": {},
   "outputs": [],
   "source": [
    "cen_eas = cut_train_arrays(trains_array_cen_eas)\n",
    "cen_wes = cut_train_arrays(trains_array_cen_wes)\n",
    "bak_sou = cut_train_arrays(trains_array_bak_sou)\n",
    "bak_nor = cut_train_arrays(trains_array_bak_nor)\n",
    "vic_sou = cut_train_arrays(trains_array_vic_sou)\n",
    "vic_nor = cut_train_arrays(trains_array_vic_nor)"
   ]
  },
  {
   "cell_type": "code",
   "execution_count": null,
   "metadata": {},
   "outputs": [],
   "source": [
    "print(len(spectro2.array[0]))\n",
    "print(len(spectro2.array[0][0]))\n"
   ]
  },
  {
   "cell_type": "code",
   "execution_count": null,
   "metadata": {},
   "outputs": [],
   "source": [
    "spectro2['cen_eas']=np.concatenate(cen_eas)\n",
    "spectro2['cen_wes']=np.concatenate(cen_wes)\n",
    "spectro2['vic_sou']=np.concatenate(vic_sou)\n",
    "spectro2['vic_nor']=np.concatenate(vic_nor)\n",
    "spectro2['bak_sou']=np.concatenate(bak_sou)\n",
    "spectro2['bak_nor']=np.concatenate(bak_nor)"
   ]
  },
  {
   "cell_type": "code",
   "execution_count": null,
   "metadata": {},
   "outputs": [],
   "source": [
    "spectro2"
   ]
  },
  {
   "cell_type": "code",
   "execution_count": null,
   "metadata": {},
   "outputs": [],
   "source": [
    "print(spectro2[spectro2.cen_eas==1].count())\n",
    "print(spectro2[spectro2.cen_wes==1].count())\n",
    "print(spectro2[spectro2.bak_sou==1].count())\n",
    "print(spectro2[spectro2.bak_nor==1].count())\n",
    "print(spectro2[spectro2.vic_sou==1].count())\n",
    "print(spectro2[spectro2.vic_nor==1].count())\n",
    "print(spectro2[spectro2.train==1].count())"
   ]
  },
  {
   "cell_type": "code",
   "execution_count": null,
   "metadata": {},
   "outputs": [],
   "source": [
    "store = pd.HDFStore('initial_datasets/spectro.h5')\n",
    "store['first'] =spectro2\n",
    "store.close()"
   ]
  },
  {
   "cell_type": "code",
   "execution_count": null,
   "metadata": {},
   "outputs": [],
   "source": [
    "train = []\n",
    "for i in range(len(spectro2['cen_eas'])):\n",
    "    summ = sum([spectro2['cen_eas'][i],spectro2['cen_wes'][i],spectro2['bak_sou'][i],spectro2['bak_nor'][i],spectro2['vic_sou'][i],spectro2['vic_nor'][i]])\n",
    "    if summ == 0:\n",
    "        train.append(0)\n",
    "    else:\n",
    "        train.append(1)\n",
    "print(len(train))"
   ]
  },
  {
   "cell_type": "code",
   "execution_count": null,
   "metadata": {},
   "outputs": [],
   "source": [
    "spectro2['train']=train"
   ]
  },
  {
   "cell_type": "code",
   "execution_count": null,
   "metadata": {},
   "outputs": [],
   "source": [
    "store = pd.HDFStore('initial_datasets/spectro.h5')\n",
    "store['first'] =spectro2\n",
    "store.close()"
   ]
  },
  {
   "cell_type": "code",
   "execution_count": null,
   "metadata": {},
   "outputs": [],
   "source": [
    "import time"
   ]
  },
  {
   "cell_type": "code",
   "execution_count": null,
   "metadata": {},
   "outputs": [],
   "source": [
    "#import data\n",
    "store = pd.HDFStore('initial_datasets/spectro.h5')\n",
    "data = store['first']\n",
    "\n",
    "#output counts of data entries\n",
    "input_shape = (len(data.array[0]),len(data.array[0][0]))\n",
    "print('individual input feature size: {} x {}'.format(input_shape[0], input_shape[1]))\n",
    "print('No. trains: {}'.format(data[data.train==1].array.count()))\n",
    "\n",
    "#finalised dataset for training from full dataset\n",
    "data = pd.concat([data[data.train==1].sample(frac=1), data[data.train==0].sample(1477)]).drop(['cen_eas','cen_wes','bak_sou','bak_nor','vic_sou','vic_nor'],axis=1)\n",
    "\n",
    "#randomise rows\n",
    "data = data.sample(frac=1).reset_index(drop=True)\n",
    "\n",
    "#convert features and labels into numpy arrays\n",
    "X = np.array(data.array.tolist())\n",
    "y = np.array(data.train.tolist())\n",
    "#encode the labels\n",
    "le = LabelEncoder()\n",
    "yy = le.fit_transform(y)\n",
    "#split the dataset\n",
    "x_train, x_test, y_train, y_test = train_test_split(X, yy, test_size=0.2, random_state=42)\n",
    "\n",
    "###------------------------MODEL ARCHITECTURE---------------------------###\n",
    "\n",
    "#set input shape\n",
    "num_channels = 1\n",
    "inputs = Input(shape=(input_shape[0],input_shape[1],num_channels), name='spectrogram')\n",
    "\n",
    "###########################################################################\n",
    "\n",
    "x = layers.Conv2D(filters=32, kernel_size=2, activation=\"relu\")(inputs)\n",
    "x = layers.MaxPooling2D(pool_size=2)(x)\n",
    "x = layers.Dropout(0.2)(x)\n",
    "\n",
    "x = layers.Conv2D(filters=64, kernel_size=2, activation=\"relu\")(x)\n",
    "x = layers.MaxPooling2D(pool_size=2)(x)\n",
    "x = layers.Dropout(0.2)(x)\n",
    "\n",
    "x = layers.Conv2D(filters=128, kernel_size=2, activation=\"relu\")(x)\n",
    "x = layers.MaxPooling2D(pool_size=2)(x)\n",
    "x = layers.Dropout(0.2)(x)\n",
    "\n",
    "x = layers.Conv2D(filters=256, kernel_size=2, activation=\"relu\")(x)\n",
    "x = layers.MaxPooling2D(pool_size=2)(x)\n",
    "x = layers.Dropout(0.2)(x)\n",
    "\n",
    "x = layers.Dense(256)(x)\n",
    "x = layers.GlobalAveragePooling2D()(x)\n",
    "output_train = layers.Dense(1, activation='sigmoid', name='train')(x)\n",
    "\n",
    "##########################################################################\n",
    "\n",
    "model = Model(inputs=inputs, outputs=output_train)\n",
    "\n",
    "model.summary()\n",
    "\n",
    "keras.utils.plot_model(model, 'network4_model.png', show_shapes=True)\n",
    "\n",
    "model.compile(\n",
    "    optimizer='adam',\n",
    "    metrics='acc',\n",
    "    loss=keras.losses.BinaryCrossentropy(from_logits=True)\n",
    ")\n",
    "start = time.time()\n",
    "model_info = model.fit(\n",
    "    x_train,\n",
    "    y_train,\n",
    "    epochs=500,\n",
    "    batch_size=32,\n",
    "    validation_split=0.2,\n",
    "    verbose=2\n",
    ")\n",
    "\n",
    "end = time.time()\n",
    "print(\"Model took %0.2f seconds to train\"%(end - start))\n",
    "\n",
    "test_scores = model.evaluate(x_test, y_test, verbose=0)\n",
    "print(\"Test accuracy:\", test_scores)\n",
    "\n",
    "model.save('network4_model.h5')\n",
    "model.save_weights('network4_weights.h5')"
   ]
  },
  {
   "cell_type": "code",
   "execution_count": null,
   "metadata": {},
   "outputs": [],
   "source": [
    "def plot_model_history(model_history):\n",
    "    fig, axs = plt.subplots(1,2,figsize=(15,5))\n",
    "    # summarize history for accuracy\n",
    "    axs[0].plot(range(1,len(model_history.history['acc'])+1),model_history.history['acc'])\n",
    "    axs[0].plot(range(1,len(model_history.history['val_acc'])+1),model_history.history['val_acc'])\n",
    "    axs[0].set_title('Model Accuracy')\n",
    "    axs[0].set_ylabel('Accuracy')\n",
    "    axs[0].set_xlabel('Epoch')\n",
    "    axs[0].set_xticks(np.arange(1,len(model_history.history['acc'])+1),len(model_history.history['acc'])/10)\n",
    "    axs[0].legend(['train', 'val'], loc='best')\n",
    "    # summarize history for loss\n",
    "    axs[1].plot(range(1,len(model_history.history['loss'])+1),model_history.history['loss'])\n",
    "    axs[1].plot(range(1,len(model_history.history['val_loss'])+1),model_history.history['val_loss'])\n",
    "    axs[1].set_title('Model Loss')\n",
    "    axs[1].set_ylabel('Loss')\n",
    "    axs[1].set_xlabel('Epoch')\n",
    "    axs[1].set_xticks(np.arange(1,len(model_history.history['loss'])+1),len(model_history.history['loss'])/10)\n",
    "    axs[1].legend(['train', 'val'], loc='best')\n",
    "    plt.show()"
   ]
  },
  {
   "cell_type": "code",
   "execution_count": null,
   "metadata": {},
   "outputs": [],
   "source": [
    "plot_model_history(model_info)"
   ]
  },
  {
   "cell_type": "code",
   "execution_count": null,
   "metadata": {},
   "outputs": [],
   "source": [
    "fig, axs = plt.subplots(1,1,figsize=(8,4.5))\n",
    "# summarize history for accuracy\n",
    "axs.plot(range(1,len(model_info.history['acc'])+1),model_info.history['acc'],color='#e32017')\n",
    "axs.plot(range(1,len(model_info.history['val_acc'])+1),model_info.history['val_acc'],color='#0098D4')\n",
    "axs.set_ylabel('Accuracy')\n",
    "axs.set_xlabel('Epoch')\n",
    "axs.legend(['Training Data Set', 'Unseen Data Set'], loc='right')\n",
    "plt.savefig('final_figures/initial/cnnacc',dpi=200)"
   ]
  },
  {
   "cell_type": "code",
   "execution_count": null,
   "metadata": {},
   "outputs": [],
   "source": [
    "fig, axs = plt.subplots(1,1,figsize=(8,4.5),sha)\n",
    "axs.plot(range(1,len(model_info.history['loss'])+1),model_info.history['loss'],color='#e32017')\n",
    "axs.plot(range(1,len(model_info.history['val_loss'])+1),model_info.history['val_loss'],color='#0098D4')\n",
    "axs.set_ylabel('Loss')\n",
    "axs.set_xlabel('Epoch')\n",
    "axs.legend(['Training Data Set', 'Unseen Data Set'], loc='upper left')\n",
    "plt.savefig('final_figures/initial/cnnloss',dpi=200)"
   ]
  },
  {
   "cell_type": "code",
   "execution_count": null,
   "metadata": {},
   "outputs": [],
   "source": [
    "data"
   ]
  },
  {
   "cell_type": "code",
   "execution_count": null,
   "metadata": {},
   "outputs": [],
   "source": [
    "fig, ax = plt.subplots(3,2,figsize=(4,4.5),dpi=200,sharex=True,sharey=True)\n",
    "t=np.linspace(0,3600,718)\n",
    "ax[0][0].plot(t,[2+i for i in data.zcr[:718]],label='Zero Crossing Rate', color='#0098d4',lw=0.5)\n",
    "ax[0][0].set_title('Zero Crossing Rate')\n",
    "ax[0][1].plot(t,[2+i for i in data.rms[:718]],label='RMS', color='#0098d4',lw=0.5)\n",
    "ax[0][1].set_title('RMS')\n",
    "ax[1][0].plot(t,[2+i for i in data.ste[:718]],label='Short-Time Energy', color='#0098d4',lw=0.5)\n",
    "ax[1][0].set_title('Short-Time Energy')\n",
    "ax[1][1].plot(t,[2+i for i in data.peak[:718]],label='Peak Value', color='#0098d4',lw=0.5)\n",
    "ax[1][1].set_title('Peak Value')\n",
    "ax[2][0].plot(t,[2+i for i in data.cent[:718]],label='Spectral Centroid', color='#0098d4',lw=0.5)\n",
    "ax[2][0].set_title('Spectral Centroid')\n",
    "ax[2][1].plot(t,[2+i for i in data.rolloff[:718]],label='Spectral Rolloff', color='#0098d4',lw=0.5)\n",
    "ax[2][1].set_title('Spectral Rolloff')\n",
    "for i in range(len(ax)):\n",
    "    for j in range(len(ax[i])):\n",
    "        ax[i][j].fill_between(np.linspace(0,3600*14,10052),[4*i for i in data.train],color='#e32017',alpha=0.2)\n",
    "        ax[i][j].set_xlim(0,600)  \n",
    "        ax[i][j].set_ylim(0,4)\n",
    "        ax[i][j].set_yticks([-2,0,2])\n",
    "ax[2][0].set_xlabel('Time')\n",
    "ax[2][1].set_xlabel('Time')\n",
    "plt.tight_layout()\n",
    "plt.savefig('finalpres')\n",
    "plt.show()"
   ]
  },
  {
   "cell_type": "code",
   "execution_count": null,
   "metadata": {},
   "outputs": [],
   "source": []
  }
 ],
 "metadata": {
  "kernelspec": {
   "display_name": "Python 3",
   "language": "python",
   "name": "python3"
  },
  "language_info": {
   "codemirror_mode": {
    "name": "ipython",
    "version": 3
   },
   "file_extension": ".py",
   "mimetype": "text/x-python",
   "name": "python",
   "nbconvert_exporter": "python",
   "pygments_lexer": "ipython3",
   "version": "3.8.3"
  }
 },
 "nbformat": 4,
 "nbformat_minor": 2
}
