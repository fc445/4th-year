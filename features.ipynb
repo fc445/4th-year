{
 "cells": [
  {
   "cell_type": "code",
   "execution_count": null,
   "metadata": {},
   "outputs": [],
   "source": [
    "from features import *\n",
    "import librosa\n",
    "import librosa.display as display\n",
    "import scipy\n",
    "import pandas as pd \n",
    "import numpy as np \n",
    "import matplotlib.pyplot as plt\n",
    "from model_02_functions import *\n",
    "import sklearn\n",
    "from train_period_checker import max_pooling\n",
    "import matplotlib.colors as colors"
   ]
  },
  {
   "cell_type": "code",
   "execution_count": null,
   "metadata": {},
   "outputs": [],
   "source": [
    "audio_data, samplerate = librosa.load('train_recordings/hour0001.wav', sr=3200)\n",
    "no_train_audio, samplerate = librosa.load('train_recordings/hour0301.wav',sr=3200)"
   ]
  },
  {
   "cell_type": "code",
   "execution_count": null,
   "metadata": {},
   "outputs": [],
   "source": [
    "def moving_average(x, w):\n",
    "    y_padded = np.pad(x, (w//2, w-1-w//2), mode='edge')\n",
    "    y_smooth = np.convolve(y_padded, np.ones((w,))/w, mode='valid')\n",
    "    return y_smooth"
   ]
  },
  {
   "cell_type": "markdown",
   "metadata": {},
   "source": [
    "# original waveform"
   ]
  },
  {
   "cell_type": "code",
   "execution_count": null,
   "metadata": {},
   "outputs": [],
   "source": [
    "fig = plt.figure(figsize=(8,4.5))\n",
    "train_audio = audio_data[220*samplerate:240*samplerate]\n",
    "t = np.linspace(0,20,len(train_audio))\n",
    "plt.xlabel('Time ($s$)')\n",
    "plt.ylabel('Amplitude ($V$)')\n",
    "plt.xlim([0,20])\n",
    "plt.ylim([-0.015,0.015])\n",
    "plt.plot(t,train_audio,color='#0098D4',lw=0.5)\n",
    "plt.savefig('final_figures/features/original_wavform_a',dpi=200)"
   ]
  },
  {
   "cell_type": "code",
   "execution_count": null,
   "metadata": {},
   "outputs": [],
   "source": [
    "fig = plt.figure(figsize=(8,4.5))\n",
    "train_audio = audio_data[250*samplerate:270*samplerate]\n",
    "t = np.linspace(0,20,len(train_audio))\n",
    "plt.xlabel('Time ($s$)')\n",
    "plt.ylabel('Amplitude ($V$)')\n",
    "plt.xlim([0,20])\n",
    "plt.ylim([-0.015,0.015])\n",
    "plt.plot(t,train_audio,color='#0098D4',lw=0.5)\n",
    "plt.savefig('final_figures/features/original_wavform_b',dpi=200)"
   ]
  },
  {
   "cell_type": "code",
   "execution_count": null,
   "metadata": {},
   "outputs": [],
   "source": [
    "fig = plt.figure(figsize=(8,4.5))\n",
    "train_audio = audio_data[265*samplerate:285*samplerate]\n",
    "t = np.linspace(0,20,len(train_audio))\n",
    "plt.xlabel('Time ($s$)')\n",
    "plt.ylabel('Amplitude ($V$)')\n",
    "plt.xlim([0,20])\n",
    "plt.ylim([-0.015,0.015])\n",
    "plt.plot(t,train_audio,color='#0098D4',lw=0.5)\n",
    "plt.savefig('final_figures/features/original_wavform_c',dpi=200)"
   ]
  },
  {
   "cell_type": "markdown",
   "metadata": {},
   "source": [
    "# spectrogram/mfcc"
   ]
  },
  {
   "cell_type": "code",
   "execution_count": null,
   "metadata": {},
   "outputs": [],
   "source": [
    "f0, t0, Sxx0 = scipy.signal.spectrogram(audio_data[220*samplerate:240*samplerate], fs=samplerate, window='hamming', nperseg=39, noverlap=0, nfft=1000)\n",
    "pooled = max_pooling(Sxx0, pool_size=(3,3), pool_overlap=(1,1))\n",
    "lim = [(50*len(pooled))//500, (200*len(pooled))//500]\n",
    "pooled = pooled[lim[0]:lim[1]]\n",
    "\n",
    "f = np.linspace(50,200,len(pooled))\n",
    "t = np.linspace(0,20,len(pooled[0]))\n",
    "fig = plt.figure(figsize=(8,4.5))\n",
    "plt.xlabel('Time ($s$)')\n",
    "plt.ylabel('Frequency ($Hz$)')\n",
    "plt.pcolormesh(t, f, pooled, norm=colors.LogNorm(vmin=5e-8))\n",
    "plt.colorbar()\n",
    "plt.savefig('final_figures/features/spectrogram_a',dpi=200)"
   ]
  },
  {
   "cell_type": "code",
   "execution_count": null,
   "metadata": {},
   "outputs": [],
   "source": [
    "f0, t0, Sxx0 = scipy.signal.spectrogram(audio_data[11*samplerate:31*samplerate], fs=samplerate, window='hamming', nperseg=39, noverlap=0, nfft=1000)\n",
    "pooled = max_pooling(Sxx0, pool_size=(3,3), pool_overlap=(1,1))\n",
    "lim = [(50*len(pooled))//500, (200*len(pooled))//500]\n",
    "pooled = pooled[lim[0]:lim[1]]\n",
    "\n",
    "f = np.linspace(50,200,len(pooled))\n",
    "t = np.linspace(0,20,len(pooled[0]))\n",
    "fig = plt.figure(figsize=(8,4.5))\n",
    "plt.xlabel('Time ($s$)')\n",
    "plt.ylabel('Frequency ($Hz$)')\n",
    "plt.pcolormesh(t, f, pooled, norm=colors.LogNorm(vmin=3e-8))\n",
    "plt.colorbar()\n",
    "plt.savefig('final_figures/features/spectrogram_b',dpi=200)"
   ]
  },
  {
   "cell_type": "code",
   "execution_count": null,
   "metadata": {},
   "outputs": [],
   "source": [
    "mfcc = librosa.feature.mfcc(y=audio_data[440*samplerate:460*samplerate],sr=1000,n_mfcc=100, n_mels=10, hop_length=101, fmin=0, fmax=None, htk=False)"
   ]
  },
  {
   "cell_type": "code",
   "execution_count": null,
   "metadata": {},
   "outputs": [],
   "source": [
    "a = [[1,3e-8,2e10],[1,1,1]]\n",
    "print(np.log(a))\n",
    "print(np.array(a).flatten())"
   ]
  },
  {
   "cell_type": "code",
   "execution_count": null,
   "metadata": {},
   "outputs": [],
   "source": [
    "fig, ax = plt.subplots(figsize=(8,4.5))\n",
    "img = librosa.display.specshow(mfcc, x_axis='time', ax=ax)\n",
    "fig.colorbar(img, ax=ax)\n",
    "plt.show()"
   ]
  },
  {
   "cell_type": "code",
   "execution_count": null,
   "metadata": {},
   "outputs": [],
   "source": [
    "print(len(mfcc[0]))"
   ]
  },
  {
   "cell_type": "markdown",
   "metadata": {},
   "source": [
    "# PSD"
   ]
  },
  {
   "cell_type": "code",
   "execution_count": null,
   "metadata": {},
   "outputs": [],
   "source": [
    "fig = plt.figure(figsize=(8,4.5))\n",
    "f, Pxx = scipy.signal.welch(audio_data[220*samplerate:240*samplerate],fs=3200)\n",
    "plt.plot(f,Pxx,color='#0098D4', lw=2, label='Train')\n",
    "f, Pxx = scipy.signal.welch(audio_data[250*samplerate:270*samplerate],fs=3200)\n",
    "plt.plot(f,Pxx,color='#E32017', lw=2, label='No Train')\n",
    "plt.xlabel('Frequency ($Hz$)')\n",
    "plt.ylabel('Power Spectral Density ($dB$)')\n",
    "plt.xlim(0,1600)\n",
    "plt.legend()"
   ]
  },
  {
   "cell_type": "code",
   "execution_count": null,
   "metadata": {},
   "outputs": [],
   "source": [
    "fig = plt.figure(figsize=(8,4.5))\n",
    "a, f = plt.psd(audio_data[220*samplerate:240*samplerate], Fs=3200, return_line=0, scale_by_freq=0,color='#0098D4', lw=2, label='Train')\n",
    "a, f = plt.psd(audio_data[250*samplerate:270*samplerate], Fs=3200, return_line=0, scale_by_freq=0,color='#E32017',lw=2, label='No Train')\n",
    "plt.xlabel('Frequency ($Hz$)')\n",
    "plt.ylabel('Power Spectral Density ($[dB]$ ref $(ms^{-2})^2Hz^{-1}$)')\n",
    "plt.xlim(0,1600)\n",
    "plt.legend()\n",
    "plt.savefig('final_figures/features/psd',dpi=200)\n",
    "plt.show()"
   ]
  },
  {
   "cell_type": "code",
   "execution_count": null,
   "metadata": {},
   "outputs": [],
   "source": [
    "fig = plt.figure(figsize=(8,4.5))\n",
    "a, f = plt.psd(audio_data[220*samplerate:240*samplerate], Fs=3200, return_line=0, scale_by_freq=0,color='#0098D4', lw=2, label='Train')\n",
    "plt.xlabel('Frequency ($Hz$)')\n",
    "plt.ylabel('Power Spectral Density ($[dB]$ ref $(ms^{-2})^2Hz^{-1}$)')\n",
    "plt.xlim(0,1600)\n",
    "plt.savefig('final_figures/features/psd2',dpi=200)\n",
    "plt.show()"
   ]
  },
  {
   "cell_type": "markdown",
   "metadata": {},
   "source": [
    "# zero crossing rate\n",
    "# energy\n",
    "# max frequency band"
   ]
  },
  {
   "cell_type": "code",
   "execution_count": null,
   "metadata": {},
   "outputs": [],
   "source": [
    "zcr = zero_crossing_rate(audio_data[:samplerate*500])\n",
    "no_train_zcr = zero_crossing_rate(no_train_audio[:samplerate*500])\n",
    "maxf = prominent_frequency(audio_data[:samplerate*500], frequency_step=50)\n",
    "no_train_maxf = prominent_frequency(no_train_audio[:samplerate*500], frequency_step=50)"
   ]
  },
  {
   "cell_type": "code",
   "execution_count": null,
   "metadata": {},
   "outputs": [],
   "source": [
    "fig = plt.figure(figsize=(8,4.5))\n",
    "train_audio = moving_average(zcr,w=20)\n",
    "t = np.linspace(0,500,len(train_audio))\n",
    "plt.plot(t,train_audio,color='#0098D4',lw=1, label='Trains Passing')\n",
    "train_audio = moving_average(no_train_zcr,w=20)\n",
    "t = np.linspace(0,500,len(train_audio))\n",
    "plt.plot(t,train_audio,color='#E32017',lw=1, label='No Passing Train')\n",
    "\n",
    "plt.xlabel('Time ($s$)')\n",
    "plt.ylabel('Zero Crossing Rate ($s^{-1}$)')\n",
    "plt.xlim([0,500])\n",
    "#plt.ylim([400,600])\n",
    "plt.legend()\n",
    "plt.savefig('final_figures/features/zcr',dpi=200)"
   ]
  },
  {
   "cell_type": "code",
   "execution_count": null,
   "metadata": {},
   "outputs": [],
   "source": [
    "energy = short_time_energy(audio_data[:samplerate*500])\n",
    "no_energy = short_time_energy(no_train_audio[samplerate*500:samplerate*1000])"
   ]
  },
  {
   "cell_type": "code",
   "execution_count": null,
   "metadata": {},
   "outputs": [],
   "source": [
    "energy = moving_average([np.sqrt(x) for x in energy],10)\n",
    "no_energy = moving_average([np.sqrt(x) for x in no_energy],10)\n",
    "fig = plt.figure(figsize=(8,4.5))\n",
    "train_audio = energy\n",
    "t = np.linspace(0,500,len(train_audio))\n",
    "plt.xlabel('Time ($s$)')\n",
    "plt.ylabel('RMS ($V$)')\n",
    "plt.xlim([0,500])\n",
    "plt.plot(t,train_audio,color='#0098D4',lw=1, label='Trains Passing')\n",
    "plt.plot(t,moving_average(no_energy,10),color='#E32017',lw=1,label='No Passing Trains')\n",
    "plt.legend()\n",
    "plt.savefig('final_figures/features/rms',dpi=200)\n",
    "print(len(energy))"
   ]
  },
  {
   "cell_type": "code",
   "execution_count": null,
   "metadata": {},
   "outputs": [],
   "source": [
    "test, samplerate = librosa.load('train_recordings/hour0101.wav', sr=3200)\n",
    "energy1 = short_time_energy(test[samplerate*700:samplerate*900])"
   ]
  },
  {
   "cell_type": "code",
   "execution_count": null,
   "metadata": {},
   "outputs": [],
   "source": [
    "#energy1 = [np.sqrt(x) for x in energy1]\n",
    "fig = plt.figure(figsize=(8,4.5))\n",
    "train_audio = energy1\n",
    "t = np.linspace(0,200,len(train_audio))\n",
    "plt.xlabel('Time ($s$)')\n",
    "plt.ylabel('RMS ($V$)')\n",
    "plt.xlim([0,200])\n",
    "plt.ylim([0,1.1813776649012748e-05])\n",
    "plt.plot(t,moving_average(train_audio,25),color='#0098D4',lw=2)\n",
    "plt.plot(t,[(1.1813776649012748e-5/np.sqrt(2)) for i in t],color='#E32017',lw=1)\n",
    "plt.axvline(102,color='#E32017',lw=1)\n",
    "plt.axvline(116.5,color='#E32017',lw=1)\n",
    "plt.axhline(1e-6,xmin=0.512,xmax=0.583,color='#E32017',lw=1)\n",
    "plt.annotate('Half-Power',xy=(0.1,0.7),xycoords='axes fraction',xytext=(0.2, 0.95), textcoords='axes fraction',\n",
    "            arrowprops=dict(arrowstyle=\"->\",\n",
    "                            connectionstyle=\"arc3\"),\n",
    "            horizontalalignment='right', verticalalignment='top')\n",
    "\n",
    "plt.annotate('Pulse Duration',xy=(0.55,0.08),xycoords='axes fraction',xytext=(0.8, 0.5), textcoords='axes fraction',\n",
    "            arrowprops=dict(arrowstyle=\"->\",\n",
    "                            connectionstyle=\"arc3\"),\n",
    "            horizontalalignment='right', verticalalignment='top')\n",
    "\n",
    "plt.savefig('final_figures/features/pulse',dpi=200)\n",
    "print(max(moving_average(train_audio,25)))"
   ]
  },
  {
   "cell_type": "code",
   "execution_count": null,
   "metadata": {},
   "outputs": [],
   "source": [
    "energy125 = short_time_energy(audio_data, octave_band=125)\n",
    "energy63 = short_time_energy(audio_data, octave_band=63)"
   ]
  },
  {
   "cell_type": "code",
   "execution_count": null,
   "metadata": {},
   "outputs": [],
   "source": [
    "print(len(energy125))"
   ]
  },
  {
   "cell_type": "code",
   "execution_count": null,
   "metadata": {},
   "outputs": [],
   "source": [
    "fig = plt.figure(figsize=(8,4.5))\n",
    "energy125 = [np.sqrt(x) for x in energy125]\n",
    "train_audio = energy125[440:480]\n",
    "t = np.linspace(0,20,len(train_audio))\n",
    "plt.plot(t,moving_average(train_audio,3),color='#0098D4',lw=2, label='Train')\n",
    "train_audio = energy125[500:540]\n",
    "t = np.linspace(0,20,len(train_audio))\n",
    "plt.plot(t,moving_average(train_audio,3),color='#E32017',lw=2, label='No Train')\n",
    "plt.xlabel('Time ($s$)')\n",
    "plt.ylabel('$125$Hz $1/{3^{rd}}$ Octave Energy ($V^2$)')\n",
    "plt.xlim([0,20])\n",
    "plt.legend()\n",
    "plt.savefig('final_figures/features/rms2',dpi=200)\n",
    "print(len(energy))"
   ]
  },
  {
   "cell_type": "code",
   "execution_count": null,
   "metadata": {},
   "outputs": [],
   "source": [
    "fig = plt.figure(figsize=(8,4.5))\n",
    "energy63 = [np.sqrt(x) for x in energy63]\n",
    "train_audio = energy63[440:480]\n",
    "t = np.linspace(0,20,len(train_audio))\n",
    "plt.plot(t,moving_average(train_audio,4),color='#0098D4',lw=2, label='Train')\n",
    "train_audio = energy63[500:540]\n",
    "t = np.linspace(0,20,len(train_audio))\n",
    "plt.plot(t,moving_average(train_audio,4),color='#E32017',lw=2, label='No Train')\n",
    "plt.xlabel('Time ($s$)')\n",
    "plt.ylabel('$63$Hz $1/{3^{rd}}$ Octave Energy ($V^2$)')\n",
    "plt.xlim([0,20])\n",
    "plt.legend()\n",
    "plt.savefig('final_figures/features/rms3',dpi=200)\n",
    "print(len(energy))"
   ]
  },
  {
   "cell_type": "markdown",
   "metadata": {},
   "source": [
    "# Peak Value"
   ]
  },
  {
   "cell_type": "code",
   "execution_count": null,
   "metadata": {},
   "outputs": [],
   "source": [
    "peak = peak_value(audio_data, frame_length=1600, hop_length=800)"
   ]
  },
  {
   "cell_type": "code",
   "execution_count": null,
   "metadata": {},
   "outputs": [],
   "source": [
    "fig = plt.figure(figsize=(8,4.5))\n",
    "train_audio = peak[450:490]\n",
    "t = np.linspace(0,20,len(train_audio))\n",
    "plt.plot(t,moving_average(train_audio,7),color='#0098D4',lw=2, label='Train')\n",
    "train_audio = peak[500:540]\n",
    "t = np.linspace(0,20,len(train_audio))\n",
    "plt.plot(t,moving_average(train_audio,7),color='#E32017',lw=2, label='No Train')\n",
    "plt.xlabel('Time ($s$)')\n",
    "plt.ylabel('Peak Value ($V$)')\n",
    "plt.xlim([0,20])\n",
    "plt.legend()\n",
    "plt.savefig('final_figures/features/peak',dpi=200)\n",
    "print(len(peak))"
   ]
  },
  {
   "cell_type": "markdown",
   "metadata": {},
   "source": [
    "# Spectral Centroid"
   ]
  },
  {
   "cell_type": "code",
   "execution_count": null,
   "metadata": {},
   "outputs": [],
   "source": [
    "speccen = spectral_centroid(audio_data,n_fft=3200 ,fft_hop_length=3200)[0]"
   ]
  },
  {
   "cell_type": "code",
   "execution_count": null,
   "metadata": {},
   "outputs": [],
   "source": [
    "print(len(speccen))"
   ]
  },
  {
   "cell_type": "code",
   "execution_count": null,
   "metadata": {},
   "outputs": [],
   "source": [
    "fig = plt.figure(figsize=(8,4.5))\n",
    "train_audio = speccen[0:500]\n",
    "t = np.linspace(0,500,len(train_audio))\n",
    "plt.xlabel('Time ($s$)')\n",
    "plt.ylabel('Spectral Centroid ($Hz$)')\n",
    "plt.xlim([0,500])\n",
    "plt.plot(t,moving_average(train_audio,5),color='#0098D4',lw=1)\n",
    "a = [90,157,200,300,360,499]\n",
    "for i in a:\n",
    "    plt.axvline(i,color='#E32017',lw=2)\n",
    "plt.axvline(90,color='#E32017',lw=2,label='Expected Train')\n",
    "plt.legend()\n",
    "plt.savefig('final_figures/features/speccen',dpi=200)\n",
    "print(len(train_audio))"
   ]
  },
  {
   "cell_type": "markdown",
   "metadata": {},
   "source": [
    "# Spectral Roll-off"
   ]
  },
  {
   "cell_type": "code",
   "execution_count": null,
   "metadata": {},
   "outputs": [],
   "source": [
    "specroll = spectral_roll_off(audio_data, n_fft=3200, fft_hop_length=3200)[0]\n",
    "print(len(specroll))"
   ]
  },
  {
   "cell_type": "code",
   "execution_count": null,
   "metadata": {},
   "outputs": [],
   "source": [
    "fig = plt.figure(figsize=(8,4.5))\n",
    "train_audio = specroll[0:500]\n",
    "t = np.linspace(0,500,len(train_audio))\n",
    "plt.xlabel('Time ($s$)')\n",
    "plt.ylabel('Spectral Roll-off ($Hz$)')\n",
    "plt.xlim([0,500])\n",
    "plt.plot(t,moving_average(train_audio,5),color='#0098D4',lw=1)\n",
    "a = [90,157,200,300,360,499]\n",
    "for i in a:\n",
    "    plt.axvline(i,color='#E32017',lw=2)\n",
    "plt.axvline(90,color='#E32017',lw=2,label='Expected Train')\n",
    "plt.legend()\n",
    "plt.savefig('final_figures/features/specroll',dpi=200)\n",
    "print(len(train_audio))"
   ]
  },
  {
   "cell_type": "code",
   "execution_count": null,
   "metadata": {},
   "outputs": [],
   "source": [
    "plt.plot(np.linspace(0,500,len(maxf[0:500])),maxf[0:500])\n",
    "plt.show()"
   ]
  },
  {
   "cell_type": "code",
   "execution_count": null,
   "metadata": {},
   "outputs": [],
   "source": [
    "trains_array = find_train_trainbar_array_datetime('judged_timetables/judged_windows_cen_eas.csv')"
   ]
  },
  {
   "cell_type": "code",
   "execution_count": null,
   "metadata": {},
   "outputs": [],
   "source": [
    "print(len(trains_array[13]))"
   ]
  },
  {
   "cell_type": "code",
   "execution_count": null,
   "metadata": {},
   "outputs": [],
   "source": [
    "hours=['00','01','02','03','04','05','06','07','08','09','10','11','12','13']\n",
    "output = rolling_power_with_labels_02(hours, trains_array, octave_bands=[125])"
   ]
  },
  {
   "cell_type": "code",
   "execution_count": null,
   "metadata": {},
   "outputs": [],
   "source": [
    "print(len(output))"
   ]
  },
  {
   "cell_type": "code",
   "execution_count": null,
   "metadata": {},
   "outputs": [],
   "source": [
    "from sklearn.mixture import GaussianMixture\n",
    "from sklearn.metrics import silhouette_score\n",
    "from sklearn import svm\n",
    "from sklearn.naive_bayes import GaussianNB\n",
    "from sklearn.model_selection import train_test_split"
   ]
  },
  {
   "cell_type": "code",
   "execution_count": null,
   "metadata": {},
   "outputs": [],
   "source": [
    "gm = GaussianMixture(n_components=2, random_state=0).fit(output[:8000])"
   ]
  },
  {
   "cell_type": "code",
   "execution_count": null,
   "metadata": {},
   "outputs": [],
   "source": [
    "gm.means_"
   ]
  },
  {
   "cell_type": "code",
   "execution_count": null,
   "metadata": {},
   "outputs": [],
   "source": [
    "pred = gm.predict(output[8000:])\n",
    "print(pred[100:200])\n",
    "print([i[1] for i in output[8100:8200]])"
   ]
  },
  {
   "cell_type": "code",
   "execution_count": null,
   "metadata": {},
   "outputs": [],
   "source": [
    "print (\"gmm: silhouttte: \", silhouette_score(output[8000:], pred))"
   ]
  },
  {
   "cell_type": "code",
   "execution_count": null,
   "metadata": {},
   "outputs": [],
   "source": [
    "regr = svm.SVR()\n",
    "x_train = np.array([i[0] for i in output[:8000]]).reshape(-1,1)\n",
    "y_train = [i[1] for i in output[:8000]]\n",
    "regr.fit(x_train, y_train)"
   ]
  },
  {
   "cell_type": "code",
   "execution_count": null,
   "metadata": {},
   "outputs": [],
   "source": [
    "x_test = np.array([i[0] for i in output[8000:]]).reshape(-1,1)\n",
    "y_test = np.array([float(i[1]) for i in output[8000:]]).reshape(-1,1)\n",
    "y_pred = regr.predict(x_test)"
   ]
  },
  {
   "cell_type": "code",
   "execution_count": null,
   "metadata": {},
   "outputs": [],
   "source": [
    "from sklearn import metrics\n",
    "y_pred = [1 if x>0.5 else 0 for x in y_pred]\n",
    "print(\"Accuracy:\",metrics.accuracy_score(y_test, y_pred))"
   ]
  },
  {
   "cell_type": "markdown",
   "metadata": {},
   "source": [
    "# naive bayes"
   ]
  },
  {
   "cell_type": "code",
   "execution_count": null,
   "metadata": {},
   "outputs": [],
   "source": [
    "gnb = GaussianNB()\n",
    "y_pred = gnb.fit(x_train, y_train)\n",
    "print(gnb.score(x_test,y_test))\n"
   ]
  },
  {
   "cell_type": "code",
   "execution_count": null,
   "metadata": {},
   "outputs": [],
   "source": [
    "print(\"Number of mislabeled points out of a total %d points : %d\" %(x_test.shape[0], (y_test != y_pred).sum()))"
   ]
  }
 ],
 "metadata": {
  "kernelspec": {
   "display_name": "Python 3",
   "language": "python",
   "name": "python3"
  },
  "language_info": {
   "codemirror_mode": {
    "name": "ipython",
    "version": 3
   },
   "file_extension": ".py",
   "mimetype": "text/x-python",
   "name": "python",
   "nbconvert_exporter": "python",
   "pygments_lexer": "ipython3",
   "version": "3.8.3"
  }
 },
 "nbformat": 4,
 "nbformat_minor": 2
}
