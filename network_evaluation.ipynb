{
 "cells": [
  {
   "cell_type": "code",
   "execution_count": null,
   "metadata": {},
   "outputs": [],
   "source": [
    "import keras\n",
    "import matplotlib.pyplot as plt \n",
    "import numpy as np \n",
    "import pandas as pd \n",
    "import librosa as lb \n",
    "from model_02_functions import *\n",
    "from octave_band import return_octave_filtered\n",
    "import matplotlib.colors as colors "
   ]
  },
  {
   "cell_type": "code",
   "execution_count": null,
   "metadata": {},
   "outputs": [],
   "source": [
    "model1 = keras.models.load_model('model2.h5')\n",
    "model1.load_weights('model2_weights.h5')"
   ]
  },
  {
   "cell_type": "code",
   "execution_count": null,
   "metadata": {},
   "outputs": [],
   "source": [
    "store = pd.HDFStore('dataset1_attempt6_upto13.h5')\n",
    "data1 = store['first'].sample(frac=1).reset_index(drop=True)"
   ]
  },
  {
   "cell_type": "code",
   "execution_count": null,
   "metadata": {},
   "outputs": [],
   "source": [
    "X = np.array(data1.array.tolist())\n",
    "y = np.array(data1.train.tolist())\n",
    "y1 = np.array(data1.train1.tolist())\n",
    "y2 = np.array(data1.train2.tolist())"
   ]
  },
  {
   "cell_type": "code",
   "execution_count": null,
   "metadata": {},
   "outputs": [],
   "source": [
    "X_test = X[:200]\n",
    "y_test = y[:200]\n",
    "y1_test = y1[:200]\n",
    "y2_test = y2[:200]"
   ]
  },
  {
   "cell_type": "code",
   "execution_count": null,
   "metadata": {},
   "outputs": [],
   "source": [
    "model1.evaluate(X_test, {'train': y_test, 'cen_eas': y1_test, 'cen_wes': y2_test}, verbose=2)"
   ]
  },
  {
   "cell_type": "markdown",
   "metadata": {},
   "source": [
    "# predict hour 14"
   ]
  },
  {
   "cell_type": "code",
   "execution_count": null,
   "metadata": {},
   "outputs": [],
   "source": [
    "data14 = rolling_spectrograms_no_labels_02(['13'])"
   ]
  },
  {
   "cell_type": "code",
   "execution_count": null,
   "metadata": {},
   "outputs": [],
   "source": [
    "audio_data14, samplerate = lb.load('train_recordings/hour1301.wav', sr=1000)"
   ]
  },
  {
   "cell_type": "code",
   "execution_count": null,
   "metadata": {},
   "outputs": [],
   "source": [
    "pred14 = model1.predict(data14.to_list())"
   ]
  },
  {
   "cell_type": "code",
   "execution_count": null,
   "metadata": {},
   "outputs": [],
   "source": [
    "print(len(pred14[0]))"
   ]
  },
  {
   "cell_type": "code",
   "execution_count": null,
   "metadata": {},
   "outputs": [],
   "source": [
    "fig = plt.figure(dpi=200, figsize=(16,9))\n",
    "filtered_audio_data14 = return_octave_filtered(audio_data14, samplerate=1000, octave_band=125)\n",
    "t = np.linspace(0,60,len(filtered_audio_data14))\n",
    "plt.plot(t, abs(filtered_audio_data14), color='silver')\n",
    "plt.plot(np.linspace(0,60,len(pred14[0])),0.003*pred14[0],color='red')"
   ]
  },
  {
   "cell_type": "code",
   "execution_count": null,
   "metadata": {},
   "outputs": [],
   "source": [
    "fig = plt.figure(dpi=200, figsize=(16,9))\n",
    "filtered_audio_data14 = return_octave_filtered(audio_data14, samplerate=1000, octave_band=125)\n",
    "t = np.linspace(0,60,len(filtered_audio_data14))\n",
    "plt.plot(t, abs(filtered_audio_data14), color='silver')\n",
    "plt.plot(np.linspace(0,60,len(pred14[1])),0.003*pred14[1],color='red')"
   ]
  },
  {
   "cell_type": "code",
   "execution_count": null,
   "metadata": {},
   "outputs": [],
   "source": [
    "ind = list(pred14[1]).index(max(pred14[1]))\n",
    "spec = data14[ind]\n",
    "f = np.linspace(50,300,125)\n",
    "t = np.linspace(0,10,125)\n",
    "plt.pcolormesh(t, f, spec)#, norm=colors.LogNorm(vmin=1e-8, vmax=1e-7))\n",
    "plt.show()"
   ]
  },
  {
   "cell_type": "code",
   "execution_count": null,
   "metadata": {},
   "outputs": [],
   "source": [
    "fig = plt.figure(dpi=200, figsize=(16,9))\n",
    "filtered_audio_data14 = return_octave_filtered(audio_data14, samplerate=1000, octave_band=125)\n",
    "t = np.linspace(0,60,len(filtered_audio_data14))\n",
    "plt.plot(t, abs(filtered_audio_data14), color='silver')\n",
    "plt.plot(np.linspace(0,60,len(pred14[2])),0.003*pred14[2],color='red')"
   ]
  },
  {
   "cell_type": "code",
   "execution_count": null,
   "metadata": {},
   "outputs": [],
   "source": [
    "ind = list(pred14[2]).index(max(pred14[2]))\n",
    "spec = data14[ind]\n",
    "f = np.linspace(50,300,125)\n",
    "t = np.linspace(0,10,125)\n",
    "plt.pcolormesh(t, f, spec)#, norm=colors.Normalize(vmin=1e-8))\n",
    "plt.show()"
   ]
  },
  {
   "cell_type": "code",
   "execution_count": null,
   "metadata": {},
   "outputs": [],
   "source": []
  },
  {
   "cell_type": "code",
   "execution_count": null,
   "metadata": {},
   "outputs": [],
   "source": []
  }
 ],
 "metadata": {
  "kernelspec": {
   "display_name": "Python 3",
   "language": "python",
   "name": "python3"
  },
  "language_info": {
   "codemirror_mode": {
    "name": "ipython",
    "version": 3
   },
   "file_extension": ".py",
   "mimetype": "text/x-python",
   "name": "python",
   "nbconvert_exporter": "python",
   "pygments_lexer": "ipython3",
   "version": "3.8.3"
  }
 },
 "nbformat": 4,
 "nbformat_minor": 2
}
