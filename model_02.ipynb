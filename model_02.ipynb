{
 "cells": [
  {
   "cell_type": "code",
   "execution_count": null,
   "metadata": {},
   "outputs": [],
   "source": [
    "import matplotlib.pyplot as plt \n",
    "import matplotlib.colors as colors\n",
    "import librosa\n",
    "import keras \n",
    "from model_01_functions import rolling_spectrograms\n",
    "from octave_band import find_octave_band, moving_average\n",
    "import scipy\n",
    "from train_period_checker import max_pooling\n",
    "import numpy as np"
   ]
  },
  {
   "cell_type": "code",
   "execution_count": null,
   "metadata": {},
   "outputs": [],
   "source": [
    "model = keras.models.load_model('model2.h5')\n",
    "model.load_weights('model2_weights.h5')"
   ]
  },
  {
   "cell_type": "code",
   "execution_count": null,
   "metadata": {},
   "outputs": [],
   "source": [
    "data = rolling_spectrograms('train_recordings/hour1401.wav')"
   ]
  },
  {
   "cell_type": "code",
   "execution_count": null,
   "metadata": {},
   "outputs": [],
   "source": [
    "predictions = model.predict(data)"
   ]
  },
  {
   "cell_type": "code",
   "execution_count": null,
   "metadata": {},
   "outputs": [],
   "source": [
    "print(predictions)"
   ]
  },
  {
   "cell_type": "code",
   "execution_count": null,
   "metadata": {},
   "outputs": [],
   "source": [
    "wav_data, samplerate = librosa.load('train_recordings/hour1401.wav', sr=1000)\n",
    "flower, fupper = find_octave_band(125)\n",
    "b, a = scipy.signal.butter( N=4, Wn=np.array([flower, fupper])/(samplerate/2), btype='bandpass', analog=False, output='ba')\n",
    "filtered = abs(scipy.signal.filtfilt(b, a, wav_data))\n",
    "time = np.linspace(0,len(filtered)/(samplerate), len(filtered))\n",
    "plt.figure(dpi=200, figsize=(16,9))\n",
    "plt.plot(time, moving_average(filtered, 1000), label=125)\n",
    "plt.plot(np.linspace(0,3600,len(predictions[0])),1e-3*predictions[0])\n",
    "plt.show()"
   ]
  },
  {
   "cell_type": "code",
   "execution_count": null,
   "metadata": {},
   "outputs": [],
   "source": [
    "from model_02_functions import find_train_trainbar_array_datetime, rolling_spectrograms_with_labels_02\n",
    "\n",
    "#import data\n",
    "\n",
    "trains_array_cen_eas = find_train_trainbar_array_datetime('judged_timetables/judged_windows_cen_eas.csv')\n",
    "trains_array_cen_wes = find_train_trainbar_array_datetime('judged_timetables/judged_windows_cen_wes.csv')\n",
    "trains_array_all = find_train_trainbar_array_datetime('judged_timetables/judged_timetable_all_rough.csv')\n",
    "hours=['00']#,'01','02','03','04']#,'05','06','07','08','09','10','11','12','13']\n",
    "data = rolling_spectrograms_with_labels_02(hours=hours, trains_array=[trains_array_all,trains_array_cen_eas,trains_array_cen_wes], samplerate=1000, interval=10, lag=5)\n",
    "print(data.array[0].shape)"
   ]
  },
  {
   "cell_type": "code",
   "execution_count": null,
   "metadata": {},
   "outputs": [],
   "source": [
    "pooled = data.array[0]\n",
    "f = np.linspace(50,300,len(pooled))\n",
    "t = np.linspace(0,10,len(pooled[0]))\n",
    "plt.pcolormesh(t, f, pooled)#, norm=colors.LogNorm(vmin=1e-8, vmax=1e-7))\n",
    "print(len(pooled))\n",
    "print(len(pooled[0]))"
   ]
  },
  {
   "cell_type": "code",
   "execution_count": null,
   "metadata": {},
   "outputs": [],
   "source": []
  }
 ],
 "metadata": {
  "kernelspec": {
   "display_name": "Python 3",
   "language": "python",
   "name": "python3"
  },
  "language_info": {
   "codemirror_mode": {
    "name": "ipython",
    "version": 3
   },
   "file_extension": ".py",
   "mimetype": "text/x-python",
   "name": "python",
   "nbconvert_exporter": "python",
   "pygments_lexer": "ipython3",
   "version": "3.8.3"
  }
 },
 "nbformat": 4,
 "nbformat_minor": 2
}
