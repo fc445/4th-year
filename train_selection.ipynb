{
 "cells": [
  {
   "cell_type": "code",
   "execution_count": null,
   "metadata": {},
   "outputs": [],
   "source": [
    "import librosa\n",
    "import pandas as pd\n",
    "from tqdm import tqdm\n",
    "import matplotlib.pyplot as plt \n",
    "from wavfile_manipulations import *\n",
    "from octave_band import *\n",
    "from timetables import trains_in_period"
   ]
  },
  {
   "cell_type": "markdown",
   "metadata": {},
   "source": [
    "# hour 00"
   ]
  },
  {
   "cell_type": "code",
   "execution_count": null,
   "metadata": {},
   "outputs": [],
   "source": [
    "wavfile = 'train_recordings/hour0001.wav'\n",
    "data, time = extract_wavfile_and_date(wavfile)"
   ]
  },
  {
   "cell_type": "code",
   "execution_count": null,
   "metadata": {},
   "outputs": [],
   "source": [
    "print(str(time))"
   ]
  },
  {
   "cell_type": "code",
   "execution_count": null,
   "metadata": {},
   "outputs": [],
   "source": [
    "train_times = trains_in_period(lines=['cir_eas','cir_wes','bak_sou','bak_nor','vic_sou','vic_nor'],start_time=time, duration='full')\n",
    "print(train_times)"
   ]
  },
  {
   "cell_type": "code",
   "execution_count": null,
   "metadata": {},
   "outputs": [],
   "source": [
    "wavfile = 'train_recordings/hour0001.wav'\n",
    "plot_octave(wavfile, [63,125,160,200,250], lines=['cir_eas','cir_wes','bak_sou','bak_nor','vic_sou','vic_nor'],ma=2000,show_type='document', save_as='timetabled_spectrograms/hour00')"
   ]
  },
  {
   "cell_type": "code",
   "execution_count": null,
   "metadata": {},
   "outputs": [],
   "source": [
    "wavfile = 'train_recordings/hour0101.wav'\n",
    "#judged times - central \n",
    "fig = plt.figure(figsize=(16,9),dpi=200)\n",
    "judged_cen_east = [(188,210),(498,516),(806,824),(1463,1481)]\n",
    "judged_cen_west = [(87,100),(303,319),(650,677),(904,925),(1307,1320),(1494,1506)]\n",
    "judged_bak_south = [(286,302),(493,508),(752,780),(1055,1073),(1157,1173),(1510,1522)]\n",
    "judged_bak_north = [(350,370),(956,972),(1540,1562)]\n",
    "judged_vic_south = [(140,175),(716,730),(1357,1373)]\n",
    "for start,end in judged_vic_south:\n",
    "    plt.axvspan(start, end, color='lightblue', alpha=0.4, label='Victoria Southbound')\n",
    "for start,end in judged_bak_south:\n",
    "    plt.axvspan(start, end, color='peru', alpha=0.4)\n",
    "for start,end in judged_bak_north:\n",
    "    plt.axvspan(start, end, color='sienna', alpha=0.4)\n",
    "for start,end in judged_cen_east:\n",
    "    plt.axvspan(start, end, color='orange', alpha=0.4)\n",
    "for start,end in judged_cen_west:\n",
    "    plt.axvspan(start, end, color='red', alpha=0.4)\n",
    "plt.xlim(0,3600)\n",
    "plt.show()\n",
    "plot_octave(wavfile, [63,125,160,200,250], lines=['cir_eas','cir_wes','bak_sou','bak_nor','vic_sou','vic_nor'],ma=2000,show_type='document', save_as='timetabled_spectrograms/hour01')"
   ]
  },
  {
   "cell_type": "code",
   "execution_count": null,
   "metadata": {},
   "outputs": [],
   "source": [
    "wavfile = 'train_recordings/hour0201.wav'\n",
    "plot_octave(wavfile, [63,125,160,200,250], lines=['cir_eas','cir_wes','bak_sou','bak_nor','vic_sou','vic_nor'],ma=2000,show_type='document', save_as='timetabled_spectrograms/hour02')"
   ]
  },
  {
   "cell_type": "code",
   "execution_count": null,
   "metadata": {},
   "outputs": [],
   "source": [
    "wavfile = 'train_recordings/hour0301.wav'\n",
    "plot_octave(wavfile, [63,125,160,200,250], lines=['cir_eas','cir_wes','bak_sou','bak_nor','vic_sou','vic_nor'],ma=2000,show_type='document', save_as='timetabled_spectrograms/hour03')"
   ]
  },
  {
   "cell_type": "code",
   "execution_count": null,
   "metadata": {},
   "outputs": [],
   "source": [
    "wavfile = 'train_recordings/hour0401.wav'\n",
    "plot_octave(wavfile, [63,125,160,200,250], lines=['cir_eas','cir_wes','bak_sou','bak_nor','vic_sou','vic_nor'],ma=2000,show_type='document', save_as='timetabled_spectrograms/hour04')"
   ]
  },
  {
   "cell_type": "code",
   "execution_count": null,
   "metadata": {},
   "outputs": [],
   "source": [
    "wavfile = 'train_recordings/hour0501.wav'\n",
    "plot_octave(wavfile, [63,125,160,200,250], lines=['cir_eas','cir_wes','bak_sou','bak_nor','vic_sou','vic_nor'],ma=2000,show_type='document', save_as='timetabled_spectrograms/hour05')"
   ]
  },
  {
   "cell_type": "code",
   "execution_count": null,
   "metadata": {},
   "outputs": [],
   "source": [
    "wavfile = 'train_recordings/hour0601.wav'\n",
    "plot_octave(wavfile, [63,125,160,200,250], lines=['cir_eas','cir_wes','bak_sou','bak_nor','vic_sou','vic_nor'],ma=2000,show_type='document', save_as='timetabled_spectrograms/hour06')"
   ]
  },
  {
   "cell_type": "code",
   "execution_count": null,
   "metadata": {},
   "outputs": [],
   "source": [
    "wavfile = 'train_recordings/hour0701.wav'\n",
    "plot_octave(wavfile, [63,125,160,200,250], lines=['cir_eas','cir_wes','bak_sou','bak_nor','vic_sou','vic_nor'],ma=2000,show_type='document', save_as='timetabled_spectrograms/hour07')"
   ]
  },
  {
   "cell_type": "code",
   "execution_count": null,
   "metadata": {},
   "outputs": [],
   "source": [
    "wavfile = 'train_recordings/hour0801.wav'\n",
    "plot_octave(wavfile, [63,125,160,200,250], lines=['cir_eas','cir_wes','bak_sou','bak_nor','vic_sou','vic_nor'],ma=2000,show_type='document', save_as='timetabled_spectrograms/hour08')"
   ]
  },
  {
   "cell_type": "code",
   "execution_count": null,
   "metadata": {},
   "outputs": [],
   "source": [
    "wavfile = 'train_recordings/hour0901.wav'\n",
    "plot_octave(wavfile, [63,125,160,200,250], lines=['cir_eas','cir_wes','bak_sou','bak_nor','vic_sou','vic_nor'],ma=2000,show_type='document', save_as='timetabled_spectrograms/hour09')"
   ]
  },
  {
   "cell_type": "code",
   "execution_count": null,
   "metadata": {},
   "outputs": [],
   "source": [
    "wavfile = 'train_recordings/hour1001.wav'\n",
    "plot_octave(wavfile, [63,125,160,200,250], lines=['cir_eas','cir_wes','bak_sou','bak_nor','vic_sou','vic_nor'],ma=2000,show_type='document', save_as='timetabled_spectrograms/hour10')"
   ]
  },
  {
   "cell_type": "code",
   "execution_count": null,
   "metadata": {},
   "outputs": [],
   "source": []
  }
 ],
 "metadata": {
  "kernelspec": {
   "display_name": "Python 3",
   "language": "python",
   "name": "python3"
  },
  "language_info": {
   "codemirror_mode": {
    "name": "ipython",
    "version": 3
   },
   "file_extension": ".py",
   "mimetype": "text/x-python",
   "name": "python",
   "nbconvert_exporter": "python",
   "pygments_lexer": "ipython3",
   "version": "3.8.3"
  }
 },
 "nbformat": 4,
 "nbformat_minor": 2
}
