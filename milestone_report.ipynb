{
 "cells": [
  {
   "cell_type": "code",
   "execution_count": null,
   "metadata": {},
   "outputs": [],
   "source": [
    "import os\n",
    "import pandas as pd\n",
    "from scipy.io import wavfile\n",
    "from scipy.fftpack import fft\n",
    "from scipy.fftpack import ifft\n",
    "import numpy as np\n",
    "import matplotlib\n",
    "import matplotlib.pyplot as plt \n",
    "import matplotlib.colors as colors\n",
    "import scipy\n",
    "from scipy.signal import welch\n",
    "import librosa\n",
    "import librosa.display\n",
    "from octave_band import *\n",
    "plt.rcParams.update({'font.size': 22})"
   ]
  },
  {
   "cell_type": "code",
   "execution_count": null,
   "metadata": {},
   "outputs": [],
   "source": [
    "def moving_average(x, w):\n",
    "    return np.convolve(x, np.ones(w), 'valid') / w"
   ]
  },
  {
   "cell_type": "code",
   "execution_count": null,
   "metadata": {},
   "outputs": [],
   "source": [
    "def moving_average(x, w):\n",
    "    y_padded = np.pad(x, (w//2, w-1-w//2), mode='edge')\n",
    "    y_smooth = np.convolve(y_padded, np.ones((w,))/w, mode='valid')\n",
    "    return y_smooth"
   ]
  },
  {
   "cell_type": "code",
   "execution_count": null,
   "metadata": {},
   "outputs": [],
   "source": [
    "#load wav file\n",
    "input_wav = 'train_recordings/hour0101.wav'\n",
    "samplerate = 1000\n",
    "data, samplerate = librosa.load(input_wav, sr=samplerate)\n",
    "ma = moving_average(abs(data[495000:520000]), 1000)\n",
    "data = data[495000:520000]\n",
    "time = np.linspace(0,len(data)/1000,len(data))"
   ]
  },
  {
   "cell_type": "code",
   "execution_count": null,
   "metadata": {},
   "outputs": [],
   "source": [
    "#plot raw data\n",
    "fig = plt.figure(figsize=(16,9), dpi=200)\n",
    "plt.plot(time, data)\n",
    "plt.xlabel('Time (seconds)')\n",
    "plt.ylabel('Amplitude')\n",
    "plt.xlim([0,25])\n",
    "plt.ylim([-0.015,0.015])\n",
    "plt.savefig('milestone_figs/raw_wavfile')\n",
    "plt.show()"
   ]
  },
  {
   "cell_type": "code",
   "execution_count": null,
   "metadata": {},
   "outputs": [],
   "source": [
    "fig = plt.figure(figsize=(16,9), dpi=100)\n",
    "\n",
    "array = [63,125,160,200]\n",
    "\n",
    "for i,j in enumerate(array):\n",
    "    flower, fupper = find_octave_band(j)\n",
    "    b, a = scipy.signal.butter( N=4, Wn=np.array([flower, fupper])/(samplerate/2), btype='bandpass', analog=False, output='ba')\n",
    "    filtered = abs(scipy.signal.filtfilt(b, a, data))\n",
    "    time = np.linspace(0,len(filtered)/(samplerate), len(filtered))\n",
    "    plt.plot(time, moving_average(filtered, 1000), label=j)\n",
    "    \n",
    "plt.xlabel('Time (seconds)')\n",
    "plt.ylabel('Amplitude')\n",
    "plt.xlim([0,24])\n",
    "plt.ylim([0,0.0015])\n",
    "plt.savefig('milestone_figs/raw_wavfile')\n",
    "plt.legend()\n",
    "plt.show()"
   ]
  },
  {
   "cell_type": "code",
   "execution_count": null,
   "metadata": {},
   "outputs": [],
   "source": []
  }
 ],
 "metadata": {
  "kernelspec": {
   "display_name": "Python 3",
   "language": "python",
   "name": "python3"
  },
  "language_info": {
   "codemirror_mode": {
    "name": "ipython",
    "version": 3
   },
   "file_extension": ".py",
   "mimetype": "text/x-python",
   "name": "python",
   "nbconvert_exporter": "python",
   "pygments_lexer": "ipython3",
   "version": "3.8.3"
  }
 },
 "nbformat": 4,
 "nbformat_minor": 2
}
