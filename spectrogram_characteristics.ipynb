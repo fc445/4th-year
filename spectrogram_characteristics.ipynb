{
 "cells": [
  {
   "cell_type": "code",
   "execution_count": 1,
   "metadata": {},
   "outputs": [],
   "source": [
    "import os\n",
    "import librosa\n",
    "import numpy as np \n",
    "import pandas as pd \n",
    "from octave_band import plot_custom_bands\n",
    "import matplotlib.pyplot as plt\n",
    "import matplotlib.colors as colors\n",
    "from scipy.signal import spectrogram\n",
    "%matplotlib qt"
   ]
  },
  {
   "cell_type": "code",
   "execution_count": 2,
   "metadata": {},
   "outputs": [],
   "source": [
    "wavfile = 'train_recordings/hour0101.wav'\n",
    "data, samplerate = librosa.load(wavfile, sr=1000)"
   ]
  },
  {
   "cell_type": "code",
   "execution_count": 3,
   "metadata": {},
   "outputs": [],
   "source": [
    "def max_pooling(array, pool_size, pool_overlap=(0,0)):\n",
    "    if pool_overlap:\n",
    "        if (pool_overlap[0] >= pool_size[0]) and (pool_overlap[1] >= pool_size[1]):\n",
    "            print('pool_overlap must be less than pool_size')\n",
    "            return\n",
    "\n",
    "    output = []\n",
    "    for i in range(0, array.shape[0]-pool_size[0]+pool_overlap[0], pool_size[0]-pool_overlap[0]):\n",
    "        row = []\n",
    "        for j in range(0, array.shape[1]-pool_size[1]+pool_overlap[1], pool_size[1]-pool_overlap[1]):\n",
    "            maximum = max(np.array(array[i:i+pool_size[0], j:j+pool_size[1]]).flatten())\n",
    "            row.append(maximum)\n",
    "        output.append((row))\n",
    "    return output"
   ]
  },
  {
   "cell_type": "code",
   "execution_count": 4,
   "metadata": {},
   "outputs": [],
   "source": [
    "def quick_plot_max_pooling(data, array, samplerate, nperseg=100, noverlap=0, nfft=40, pool_size=(1,1), pool_overlap=(0,0), vmin=None, vmax=None, ylim=None):\n",
    "    if array==None:\n",
    "        fig = plt.figure(figsize=(32,18), dpi=200)\n",
    "        f0, t0, Sxx0 = spectrogram(data, fs=samplerate, window='hamming', nperseg=nperseg, noverlap=noverlap, nfft=nfft)\n",
    "        pooled = max_pooling(Sxx0, pool_size=pool_size, pool_overlap=pool_overlap)\n",
    "        if ylim:\n",
    "            lim = [(ylim[0]*len(pooled))//500, (ylim[1]*len(pooled))//500]\n",
    "            pooled = pooled[lim[0]:lim[1]]\n",
    "        else:\n",
    "            ylim = [0,500]\n",
    "        f = np.linspace(ylim[0],ylim[1],len(pooled))\n",
    "        t = np.linspace(0,3600,len(pooled[0]))\n",
    "        plt.pcolormesh(t, f, pooled, norm=colors.LogNorm(vmin=vmin, vmax=vmax))\n",
    "        #if ylim:    ax[i].set_ylim(ylim[0], ylim[1])\n",
    "        print('max value: '+str(max(max(pooled))))\n",
    "        print('average value: '+str(np.mean(pooled)))\n",
    "        plt.savefig('something.pdf', bbox_inches='tight')\n",
    "    else:\n",
    "        fig, ax = plt.subplots(ncols=len(array), figsize=(3*len(array),5))\n",
    "        for i in range(len(array)):\n",
    "            f0, t0, Sxx0 = spectrogram(data[samplerate*array[i][0]:samplerate*array[i][1]], fs=samplerate, window='hamming', nperseg=nperseg, noverlap=noverlap, nfft=nfft)\n",
    "            pooled = max_pooling(Sxx0, pool_size=pool_size, pool_overlap=pool_overlap)\n",
    "            if ylim:\n",
    "                lim = [(ylim[0]*len(pooled))//500, (ylim[1]*len(pooled))//500]\n",
    "                pooled = pooled[lim[0]:lim[1]]\n",
    "            else:\n",
    "                ylim = [0,500]\n",
    "            f = np.linspace(ylim[0],ylim[1],len(pooled))\n",
    "            t = np.linspace(0,(array[i][1]-array[i][0]),len(pooled[0]))\n",
    "            im = ax[i].pcolormesh(t, f, pooled, norm=colors.LogNorm(vmin=vmin, vmax=vmax))\n",
    "            #if ylim:    ax[i].set_ylim(ylim[0], ylim[1])\n",
    "            print('max value: '+str(max(max(pooled))))\n",
    "            print('average value: '+str(np.mean(pooled)))\n",
    "            fig.colorbar(im, ax=ax[i])\n",
    "    plt.show()"
   ]
  },
  {
   "cell_type": "markdown",
   "metadata": {},
   "source": [
    "# cen_eas"
   ]
  },
  {
   "cell_type": "code",
   "execution_count": 5,
   "metadata": {},
   "outputs": [
    {
     "name": "stdout",
     "output_type": "stream",
     "text": [
      "[ 202  507  817 1474]\n"
     ]
    }
   ],
   "source": [
    "cen_eas = np.array(pd.read_csv('judged_timings/cen_eas_01.csv').timings)\n",
    "print(cen_eas)"
   ]
  },
  {
   "cell_type": "code",
   "execution_count": 6,
   "metadata": {},
   "outputs": [
    {
     "name": "stdout",
     "output_type": "stream",
     "text": [
      "max value: 2.2276228e-07\n",
      "average value: 4.147011e-08\n",
      "max value: 5.3211767e-07\n",
      "average value: 5.2062255e-08\n",
      "max value: 2.1911963e-07\n",
      "average value: 3.636674e-08\n",
      "max value: 4.6927062e-07\n",
      "average value: 3.6037633e-08\n"
     ]
    }
   ],
   "source": [
    "array = [[193,204],[497,512],[807,822],[1464,1478]]\n",
    "quick_plot_max_pooling(data, array, samplerate, nperseg=100, noverlap=50, nfft=10000, pool_size=(5,5), pool_overlap=(1,1), vmin=2e-7, vmax=6e-7, ylim=(80,300))"
   ]
  },
  {
   "cell_type": "markdown",
   "metadata": {},
   "source": [
    "# cen_wes"
   ]
  },
  {
   "cell_type": "code",
   "execution_count": 7,
   "metadata": {},
   "outputs": [
    {
     "name": "stdout",
     "output_type": "stream",
     "text": [
      "[ 310  665  912 1314 1496]\n"
     ]
    }
   ],
   "source": [
    "cen_wes = np.array(pd.read_csv('judged_timings/cen_wes_01.csv').timings)\n",
    "print(cen_wes)"
   ]
  },
  {
   "cell_type": "code",
   "execution_count": 8,
   "metadata": {},
   "outputs": [
    {
     "name": "stdout",
     "output_type": "stream",
     "text": [
      "max value: 2.2292251e-07\n",
      "average value: 8.2482295e-08\n",
      "max value: 5.093607e-07\n",
      "average value: 7.634975e-08\n",
      "max value: 1.6464158e-07\n",
      "average value: 1.0219975e-07\n",
      "max value: 3.228516e-07\n",
      "average value: 7.050449e-08\n",
      "max value: 4.753344e-07\n",
      "average value: 8.064557e-08\n"
     ]
    }
   ],
   "source": [
    "array = [[300,320],[655,675],[902,922],[1304,1324],[1486,1506]]\n",
    "quick_plot_max_pooling(data, array, samplerate, nperseg=100, noverlap=0, nfft=10000, pool_size=(10,10), pool_overlap=(5,5), vmin=1.5e-7, vmax=5e-7, ylim=(50,150))"
   ]
  },
  {
   "cell_type": "markdown",
   "metadata": {},
   "source": [
    "# bak_sou"
   ]
  },
  {
   "cell_type": "code",
   "execution_count": 9,
   "metadata": {},
   "outputs": [
    {
     "name": "stdout",
     "output_type": "stream",
     "text": [
      "[ 297  498  766 1064 1158 1538]\n"
     ]
    }
   ],
   "source": [
    "bak_sou = np.array(pd.read_csv('judged_timings/bak_sou_01.csv').timings)\n",
    "print(bak_sou)"
   ]
  },
  {
   "cell_type": "code",
   "execution_count": 10,
   "metadata": {},
   "outputs": [
    {
     "name": "stdout",
     "output_type": "stream",
     "text": [
      "max value: 1.220259e-07\n",
      "average value: 3.1514258e-08\n",
      "max value: 5.587115e-07\n",
      "average value: 3.622216e-08\n",
      "max value: 1.8678303e-07\n",
      "average value: 2.4703706e-08\n",
      "max value: 1.4642113e-07\n",
      "average value: 1.9509093e-08\n",
      "max value: 6.818239e-08\n",
      "average value: 1.2090996e-08\n",
      "max value: 8.174079e-08\n",
      "average value: 1.9559252e-08\n"
     ]
    }
   ],
   "source": [
    "array = [[287,307],[488,508],[756,776],[1054,1074],[1148,1168],[1528,1548]]\n",
    "quick_plot_max_pooling(data, array, samplerate, nperseg=100, noverlap=0, nfft=10000, pool_size=(5,5), pool_overlap=(1,1), vmin=6e-8, vmax=2e-7, ylim=(50,300))"
   ]
  },
  {
   "cell_type": "markdown",
   "metadata": {},
   "source": [
    "# bak_nor"
   ]
  },
  {
   "cell_type": "code",
   "execution_count": 12,
   "metadata": {},
   "outputs": [
    {
     "name": "stdout",
     "output_type": "stream",
     "text": [
      "[ 359  963 1553]\n"
     ]
    }
   ],
   "source": [
    "bak_nor = np.array(pd.read_csv('judged_timings/bak_nor_01.csv').timings)\n",
    "print(bak_nor)"
   ]
  },
  {
   "cell_type": "code",
   "execution_count": 42,
   "metadata": {},
   "outputs": [
    {
     "name": "stdout",
     "output_type": "stream",
     "text": [
      "max value: 1.3704891e-08\n",
      "average value: 1.8111171e-08\n",
      "max value: 1.8212221e-08\n",
      "average value: 1.6537397e-08\n",
      "max value: 6.110274e-08\n",
      "average value: 2.1702748e-08\n"
     ]
    }
   ],
   "source": [
    "array = [[349,369],[953,973],[1543,1563]]\n",
    "quick_plot_max_pooling(data, array, samplerate, nperseg=100, noverlap=0, nfft=10000, pool_size=(5,5), pool_overlap=(1,1), vmin=1e-8, vmax=5e-7, ylim=(60,180))"
   ]
  },
  {
   "cell_type": "markdown",
   "metadata": {},
   "source": [
    "# vic_sou"
   ]
  },
  {
   "cell_type": "code",
   "execution_count": 14,
   "metadata": {},
   "outputs": [
    {
     "name": "stdout",
     "output_type": "stream",
     "text": [
      "[ 146  719 1360]\n"
     ]
    }
   ],
   "source": [
    "vic_sou = np.array(pd.read_csv('judged_timings/vic_sou_01.csv').timings)\n",
    "print(vic_sou)"
   ]
  },
  {
   "cell_type": "code",
   "execution_count": 41,
   "metadata": {},
   "outputs": [
    {
     "name": "stdout",
     "output_type": "stream",
     "text": [
      "max value: 3.045865e-07\n",
      "average value: 5.1627218e-08\n",
      "max value: 3.392943e-08\n",
      "average value: 1.8632386e-08\n",
      "max value: 7.984824e-08\n",
      "average value: 2.1552868e-08\n"
     ]
    }
   ],
   "source": [
    "array = [[146,166],[713,729],[1358,1372]]\n",
    "quick_plot_max_pooling(data, array, samplerate, nperseg=100, noverlap=0, nfft=10000, pool_size=(5,5), pool_overlap=(1,1), vmin=1e-8, vmax=5e-7, ylim=(60,180))"
   ]
  },
  {
   "cell_type": "markdown",
   "metadata": {},
   "source": [
    "# vic_nor"
   ]
  },
  {
   "cell_type": "code",
   "execution_count": 16,
   "metadata": {},
   "outputs": [
    {
     "name": "stdout",
     "output_type": "stream",
     "text": [
      "[ 104  279  564  814 1016 1332 1629]\n"
     ]
    }
   ],
   "source": [
    "vic_nor = np.array(pd.read_csv('judged_timings/vic_nor_01.csv').timings)\n",
    "print(vic_nor)"
   ]
  },
  {
   "cell_type": "code",
   "execution_count": 17,
   "metadata": {},
   "outputs": [
    {
     "name": "stdout",
     "output_type": "stream",
     "text": [
      "max value: 1.8593593e-07\n",
      "average value: 1.0446886e-08\n",
      "max value: 1.3279904e-07\n",
      "average value: 1.7134642e-08\n",
      "max value: 5.8707307e-08\n",
      "average value: 8.539256e-09\n",
      "max value: 9.315002e-08\n",
      "average value: 3.0695112e-08\n",
      "max value: 2.6262919e-08\n",
      "average value: 7.2508146e-09\n",
      "max value: 2.6035513e-08\n",
      "average value: 6.2880625e-09\n",
      "max value: 4.2732609e-07\n",
      "average value: 7.0271517e-09\n"
     ]
    }
   ],
   "source": [
    "array = [[94,114],[269,289],[554,574],[804,824],[1006,1026],[1322,1342],[1619,1639]]\n",
    "quick_plot_max_pooling(data, array, samplerate, nperseg=100, noverlap=0, nfft=10000, pool_size=(5,5), pool_overlap=(1,1), vmin=1e-9, vmax=6e-7, ylim=(30,300))"
   ]
  },
  {
   "cell_type": "markdown",
   "metadata": {},
   "source": [
    "# trying to do the isolation"
   ]
  },
  {
   "cell_type": "markdown",
   "metadata": {},
   "source": [
    "# cen_eas"
   ]
  },
  {
   "cell_type": "markdown",
   "metadata": {},
   "source": [
    "### set min at 2e-7 around 95-120Hz, should be nothing above 60-80 (retrospectively 115-130 with min of 0.0004/5 seems to only show both cen)"
   ]
  },
  {
   "cell_type": "code",
   "execution_count": 18,
   "metadata": {},
   "outputs": [],
   "source": [
    "wavfile = 'train_recordings/hour0001.wav'"
   ]
  },
  {
   "cell_type": "code",
   "execution_count": 20,
   "metadata": {},
   "outputs": [],
   "source": [
    "a = [[60,80],[95,120]]\n",
    "plot_custom_bands(wavfile, array=a, samplerate=1000,  lines=['cen_eas'], ma=1000, vmin=[0.0008,0.001])"
   ]
  },
  {
   "cell_type": "markdown",
   "metadata": {},
   "source": [
    "# cen_wes"
   ]
  },
  {
   "cell_type": "markdown",
   "metadata": {},
   "source": [
    "### use same plot as above, just requires 60-80"
   ]
  },
  {
   "cell_type": "code",
   "execution_count": 21,
   "metadata": {},
   "outputs": [],
   "source": [
    "plot_custom_bands(wavfile, array=a, samplerate=1000,  lines=['cen_wes'], judged_lines=['cen_eas','cen_wes'], ma=1000, vmin=[0.0008,0.0008])"
   ]
  },
  {
   "cell_type": "markdown",
   "metadata": {},
   "source": [
    "# bak_sou"
   ]
  },
  {
   "cell_type": "markdown",
   "metadata": {},
   "source": [
    "### requires 80-110, 180-280 and none 50-70, 115-130, 160-170ish\n",
    "### largest peak expected around 180-280"
   ]
  },
  {
   "cell_type": "code",
   "execution_count": 22,
   "metadata": {},
   "outputs": [],
   "source": [
    "a = [[80,110],[180,280]]\n",
    "plot_custom_bands(wavfile, array=a, samplerate=1000,  lines=['bak_sou'], judged_lines=['cen_eas', 'cen_wes'], ma=1000, vmin=[0.0005,0.001])"
   ]
  },
  {
   "cell_type": "markdown",
   "metadata": {},
   "source": [
    "# bak_nor"
   ]
  },
  {
   "cell_type": "markdown",
   "metadata": {},
   "source": [
    "### peaks 100-115, 130-150"
   ]
  },
  {
   "cell_type": "code",
   "execution_count": 35,
   "metadata": {},
   "outputs": [],
   "source": [
    "wavfile = 'train_recordings/hour0001.wav'\n",
    "a = [[101,111],[133,143],[200,250]]\n",
    "plot_custom_bands(wavfile, array=a, samplerate=1000,  lines=['bak_nor'], judged_lines=['cen_eas','cen_wes','bak_sou'], ma=1000, vmin=[0.0,0.0,0])"
   ]
  },
  {
   "cell_type": "markdown",
   "metadata": {},
   "source": [
    "# vic_sou"
   ]
  },
  {
   "cell_type": "markdown",
   "metadata": {},
   "source": [
    "### peaks expected same as above (maybe slightly lower first band)"
   ]
  },
  {
   "cell_type": "code",
   "execution_count": 48,
   "metadata": {},
   "outputs": [],
   "source": [
    "wavfile = 'train_recordings/hour0001.wav'\n",
    "a = [[101,111],[133,143],[200,250]]\n",
    "plot_custom_bands(wavfile, array=a, samplerate=1000,  lines=['vic_sou'], judged_lines=['cen_eas','cen_wes','bak_sou','bak_nor'], ma=1000, vmin=[0.0,0.0,0])"
   ]
  },
  {
   "cell_type": "code",
   "execution_count": 46,
   "metadata": {},
   "outputs": [],
   "source": [
    "wavfile = 'train_recordings/hour0102.wav'\n",
    "a = [[101,111],[133,143],[200,250]]\n",
    "plot_custom_bands(wavfile, array=a, samplerate=1000,  lines=['vic_sou','bak_nor'], ma=1000, vmin=[0.0,0.0,0])"
   ]
  },
  {
   "cell_type": "code",
   "execution_count": null,
   "metadata": {},
   "outputs": [],
   "source": []
  }
 ],
 "metadata": {
  "kernelspec": {
   "display_name": "Python 3",
   "language": "python",
   "name": "python3"
  },
  "language_info": {
   "codemirror_mode": {
    "name": "ipython",
    "version": 3
   },
   "file_extension": ".py",
   "mimetype": "text/x-python",
   "name": "python",
   "nbconvert_exporter": "python",
   "pygments_lexer": "ipython3",
   "version": "3.8.3"
  }
 },
 "nbformat": 4,
 "nbformat_minor": 2
}
