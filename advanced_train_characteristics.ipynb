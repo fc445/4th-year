{
 "cells": [
  {
   "cell_type": "code",
   "execution_count": null,
   "metadata": {},
   "outputs": [],
   "source": [
    "import os\n",
    "import librosa\n",
    "import numpy as np \n",
    "import pandas as pd \n",
    "from octave_band import plot_custom_bands\n",
    "import matplotlib.pyplot as plt"
   ]
  },
  {
   "cell_type": "markdown",
   "metadata": {},
   "source": [
    "# cen_eas"
   ]
  },
  {
   "cell_type": "markdown",
   "metadata": {},
   "source": [
    "## features above 600Hz"
   ]
  },
  {
   "cell_type": "code",
   "execution_count": null,
   "metadata": {},
   "outputs": [],
   "source": [
    "wavfile = 'train_recordings/hour0101.wav'\n",
    "data, samplerate = librosa.load(wavfile, sr=2000)"
   ]
  },
  {
   "cell_type": "code",
   "execution_count": null,
   "metadata": {},
   "outputs": [],
   "source": [
    "plot_custom_bands(data, samplerate, [(500,800),(800,999)], lines=['cen_eas'],plotting_type='judged', ma=2000, show_type='document')"
   ]
  },
  {
   "cell_type": "markdown",
   "metadata": {},
   "source": [
    "## features up to 500Hz"
   ]
  },
  {
   "cell_type": "code",
   "execution_count": null,
   "metadata": {},
   "outputs": [],
   "source": [
    "wavfile = 'train_recordings/hour0101.wav'\n",
    "data, samplerate = librosa.load(wavfile, sr=1000)"
   ]
  },
  {
   "cell_type": "code",
   "execution_count": null,
   "metadata": {},
   "outputs": [],
   "source": [
    "plot_custom_bands(data, samplerate, [(1,100),(100,200),(200,300),(300,400),(400,499)], lines=['cen_eas'],plotting_type='judged', ma=2000, show_type='document')"
   ]
  },
  {
   "cell_type": "markdown",
   "metadata": {},
   "source": [
    "### consistency across these bands\n",
    "### except: peak for 4th at first band (probably due to proximity to cen_wes)\n",
    "### main peak between 100-200"
   ]
  },
  {
   "cell_type": "code",
   "execution_count": null,
   "metadata": {},
   "outputs": [],
   "source": [
    "plot_custom_bands(data, samplerate, [(60,80),(80,100),(100,120),(120,140),(140,160),(160, 180),(180,200),(200,220),(220,240)], lines=['cen_eas'],plotting_type='judged', ma=2000, show_type='document')"
   ]
  },
  {
   "cell_type": "markdown",
   "metadata": {},
   "source": [
    "### looking now inbetween 100-120"
   ]
  },
  {
   "cell_type": "code",
   "execution_count": null,
   "metadata": {},
   "outputs": [],
   "source": [
    "plot_custom_bands(data, samplerate, [(100,105),(102,107),(104,109),(106,111),(108,113),(110, 115),(112,117),(114,119)], lines=['cen_eas'],plotting_type='judged', ma=2000, show_type='document')"
   ]
  },
  {
   "cell_type": "markdown",
   "metadata": {},
   "source": [
    "### assume peak around 7e-4 at 110-120\n",
    "### double check zero above 200"
   ]
  },
  {
   "cell_type": "code",
   "execution_count": null,
   "metadata": {},
   "outputs": [],
   "source": [
    "plot_custom_bands(data, samplerate, [(180,200),(200,220),(220,240),(240,260),(260,280),(280, 300)], lines=['cen_eas'],plotting_type='judged', ma=2000, show_type='document')"
   ]
  },
  {
   "cell_type": "markdown",
   "metadata": {},
   "source": [
    "### ...and 300-400"
   ]
  },
  {
   "cell_type": "code",
   "execution_count": null,
   "metadata": {},
   "outputs": [],
   "source": [
    "plot_custom_bands(data, samplerate, [(280,300),(300,320),(320,340),(340,360),(360,380),(380, 400)], lines=['cen_eas'],plotting_type='judged', ma=2000, show_type='document')"
   ]
  },
  {
   "cell_type": "markdown",
   "metadata": {},
   "source": [
    "# cen_wes"
   ]
  },
  {
   "cell_type": "markdown",
   "metadata": {},
   "source": [
    "## 0-500"
   ]
  },
  {
   "cell_type": "code",
   "execution_count": null,
   "metadata": {},
   "outputs": [],
   "source": [
    "plot_custom_bands(data, samplerate, [(50,100),(100,150),(150,200),(200,250),(250,300),(300,350),(350,400),(400,450),(450,499)], lines=['cen_wes'],plotting_type='judged', ma=1000, show_type='document')"
   ]
  },
  {
   "cell_type": "markdown",
   "metadata": {},
   "source": [
    "## peaks 50-150, dies above 200"
   ]
  },
  {
   "cell_type": "code",
   "execution_count": null,
   "metadata": {},
   "outputs": [],
   "source": [
    "plot_custom_bands(data, samplerate, [(40,60),(60,80),(80,100),(100,120),(120,140),(140,160),(160, 180),(180,200),(200,220),(220,240)], lines=['cen_wes'],plotting_type='judged', ma=1000, show_type='document')"
   ]
  },
  {
   "cell_type": "markdown",
   "metadata": {},
   "source": [
    "## peaks 60-80 and 100-140, dies above 160"
   ]
  },
  {
   "cell_type": "markdown",
   "metadata": {},
   "source": [
    "### firsly 60-80"
   ]
  },
  {
   "cell_type": "code",
   "execution_count": null,
   "metadata": {},
   "outputs": [],
   "source": [
    "plot_custom_bands(data, samplerate, [(60,65),(62,67),(64,69),(66,71),(68,73),(70,75),(72, 77),(74,79),(76,81)], lines=['cen_wes'],plotting_type='judged', ma=1000, show_type='document')"
   ]
  },
  {
   "cell_type": "markdown",
   "metadata": {},
   "source": [
    "### now 100-140"
   ]
  },
  {
   "cell_type": "code",
   "execution_count": null,
   "metadata": {},
   "outputs": [],
   "source": [
    "plot_custom_bands(data, samplerate, [(100,110),(105,115),(110,120),(115,125),(120,130),(125, 135),(130,140),(135,145)], lines=['cen_eas'],plotting_type='judged', ma=2000, show_type='document')"
   ]
  },
  {
   "cell_type": "markdown",
   "metadata": {},
   "source": [
    "### peak 100-125 and peak 130-145"
   ]
  },
  {
   "cell_type": "markdown",
   "metadata": {},
   "source": [
    "# considering spectrograms"
   ]
  },
  {
   "cell_type": "markdown",
   "metadata": {},
   "source": [
    "### plot each instance next to each other "
   ]
  },
  {
   "cell_type": "code",
   "execution_count": null,
   "metadata": {},
   "outputs": [],
   "source": [
    "from scipy.signal import spectrogram\n",
    "import matplotlib.colors as colors"
   ]
  },
  {
   "cell_type": "code",
   "execution_count": null,
   "metadata": {},
   "outputs": [],
   "source": [
    "wavfile = 'train_recordings/hour0101.wav'\n",
    "data, samplerate = librosa.load(wavfile, sr=3200)"
   ]
  },
  {
   "cell_type": "code",
   "execution_count": null,
   "metadata": {},
   "outputs": [],
   "source": [
    "fig = plt.figure(figsize=(16,9), dpi=400)\n",
    "f1, t1, Sxx1 = spectrogram(data[300000:1800000], fs=samplerate, window='hamming')\n",
    "plt.pcolormesh(t1, f1, Sxx1, norm=colors.LogNorm(vmin=1e-9))\n",
    "plt.show()"
   ]
  },
  {
   "cell_type": "markdown",
   "metadata": {},
   "source": [
    "# cen_eas"
   ]
  },
  {
   "cell_type": "code",
   "execution_count": null,
   "metadata": {},
   "outputs": [],
   "source": [
    "wavfile = 'train_recordings/hour0101.wav'\n",
    "data, samplerate = librosa.load(wavfile, sr=1000)"
   ]
  },
  {
   "cell_type": "code",
   "execution_count": null,
   "metadata": {},
   "outputs": [],
   "source": [
    "# import cen_eas timings\n",
    "cen_eas = np.array(pd.read_csv('judged_timings/cen_eas_01.csv').timings)\n",
    "print(cen_eas)"
   ]
  },
  {
   "cell_type": "code",
   "execution_count": null,
   "metadata": {},
   "outputs": [],
   "source": [
    "fig, (ax0, ax1, ax2, ax3) = plt.subplots(ncols=4, figsize=(16,9))\n",
    "f1, t1, Sxx1 = spectrogram(data[190000:210000], fs=samplerate, window='hamming')\n",
    "ax0.pcolormesh(t1, f1, Sxx1, norm=colors.LogNorm(vmin=1e-7))\n",
    "f2, t2, Sxx2 = spectrogram(data[500000:520000], fs=samplerate, window='hamming')\n",
    "ax1.pcolormesh(t2, f2, Sxx2, norm=colors.LogNorm(vmin=1e-7))\n",
    "f3, t3, Sxx3 = spectrogram(data[810000:825000], fs=samplerate, window='hamming')\n",
    "ax2.pcolormesh(t3, f3, Sxx3, norm=colors.LogNorm(vmin=1e-7))\n",
    "f4, t4, Sxx4 = spectrogram(data[1465000:1485000], fs=samplerate, window='hamming')\n",
    "ax3.pcolormesh(t4, f4, Sxx4, norm=colors.LogNorm(vmin=1e-7))\n",
    "ax1.set_ylim(100,200)\n",
    "ax2.set_ylim(100,200)\n",
    "ax3.set_ylim(100,200)\n",
    "ax0.set_ylim(100,200)\n",
    "plt.show()"
   ]
  },
  {
   "cell_type": "markdown",
   "metadata": {},
   "source": [
    "# cen_wes"
   ]
  },
  {
   "cell_type": "code",
   "execution_count": null,
   "metadata": {},
   "outputs": [],
   "source": [
    "# import timings\n",
    "cen_wes = np.array(pd.read_csv('judged_timings/cen_wes_01.csv').timings)\n",
    "print(cen_wes)"
   ]
  },
  {
   "cell_type": "code",
   "execution_count": null,
   "metadata": {},
   "outputs": [],
   "source": [
    "fig, ax = plt.subplots(ncols=5, figsize=(20,9))\n",
    "(ax0, ax1, ax2, ax3, ax4) = ax\n",
    "f0, t0, Sxx0 = spectrogram(data[300000:320000], fs=samplerate, window='hamming')\n",
    "ax0.pcolormesh(t0, f0, Sxx0, norm=colors.LogNorm(vmin=1e-7))\n",
    "f1, t1, Sxx1 = spectrogram(data[655000:675000], fs=samplerate, window='hamming')\n",
    "ax1.pcolormesh(t1, f1, Sxx1, norm=colors.LogNorm(vmin=1e-7))\n",
    "f2, t2, Sxx2 = spectrogram(data[902000:922000], fs=samplerate, window='hamming')\n",
    "ax2.pcolormesh(t2, f2, Sxx2, norm=colors.LogNorm(vmin=1e-7))\n",
    "f3, t3, Sxx3 = spectrogram(data[1304000:1324000], fs=samplerate, window='hamming')\n",
    "ax3.pcolormesh(t3, f3, Sxx3, norm=colors.LogNorm(vmin=1e-7))\n",
    "f4, t4, Sxx4 = spectrogram(data[1486000:1506000], fs=samplerate, window='hamming')\n",
    "ax4.pcolormesh(t4, f4, Sxx4, norm=colors.LogNorm(vmin=1e-7))\n",
    "for i in ax:\n",
    "    i.set_ylim(50,200)\n",
    "plt.show()"
   ]
  },
  {
   "cell_type": "markdown",
   "metadata": {},
   "source": [
    "# bak_sou"
   ]
  },
  {
   "cell_type": "code",
   "execution_count": null,
   "metadata": {},
   "outputs": [],
   "source": [
    "def moving_average(x, w):\n",
    "    y_padded = np.pad(x, (w//2, w-1-w//2), mode='edge')\n",
    "    y_smooth = np.convolve(y_padded, np.ones((w,))/w, mode='valid')\n",
    "    return y_smooth"
   ]
  },
  {
   "cell_type": "code",
   "execution_count": null,
   "metadata": {},
   "outputs": [],
   "source": [
    "# import timings\n",
    "bak_sou = np.array(pd.read_csv('judged_timings/bak_sou_01.csv').timings)\n",
    "print(bak_sou)"
   ]
  },
  {
   "cell_type": "code",
   "execution_count": null,
   "metadata": {},
   "outputs": [],
   "source": [
    "fig, ax = plt.subplots(ncols=6, figsize=(24,9))\n",
    "(ax0, ax1, ax2, ax3, ax4, ax5) = ax\n",
    "f0, t0, Sxx0 = spectrogram(moving_average(data[287000:307000],20), fs=samplerate, window='hamming', nperseg=256, noverlap=128)\n",
    "ax0.pcolormesh(t0, f0, Sxx0, norm=colors.LogNorm(vmin=3e-10))\n",
    "f1, t1, Sxx1 = spectrogram(moving_average(data[488000:508000],20), fs=samplerate, window='hamming')\n",
    "ax1.pcolormesh(t1, f1, Sxx1, norm=colors.LogNorm(vmin=3e-10))\n",
    "f2, t2, Sxx2 = spectrogram(moving_average(data[756000:776000],20), fs=samplerate, window='hamming')\n",
    "ax2.pcolormesh(t2, f2, Sxx2, norm=colors.LogNorm(vmin=3e-10))\n",
    "f3, t3, Sxx3 = spectrogram(moving_average(data[1054000:1074000],20), fs=samplerate, window='hamming')\n",
    "ax3.pcolormesh(t3, f3, Sxx3, norm=colors.LogNorm(vmin=3e-10))\n",
    "f4, t4, Sxx4 = spectrogram(moving_average(data[1148000:1168000],20), fs=samplerate, window='hamming')\n",
    "ax4.pcolormesh(t4, f4, Sxx4, norm=colors.LogNorm(vmin=3e-10))\n",
    "f5, t5, Sxx5 = spectrogram(moving_average(data[1528000:1548000],20), fs=samplerate, window='hamming')\n",
    "ax5.pcolormesh(t5, f5, Sxx5, norm=colors.LogNorm(vmin=3e-10))\n",
    "for i in ax:\n",
    "    i.set_ylim(40,340)\n",
    "plt.show()"
   ]
  },
  {
   "cell_type": "markdown",
   "metadata": {},
   "source": [
    "# bak_nor"
   ]
  },
  {
   "cell_type": "code",
   "execution_count": null,
   "metadata": {},
   "outputs": [],
   "source": [
    "# import timings\n",
    "bak_nor = np.array(pd.read_csv('judged_timings/bak_nor_01.csv').timings)\n",
    "print(bak_nor)"
   ]
  },
  {
   "cell_type": "code",
   "execution_count": null,
   "metadata": {},
   "outputs": [],
   "source": [
    "fig, ax = plt.subplots(ncols=3, figsize=(12,9))\n",
    "(ax0, ax1, ax2) = ax\n",
    "f0, t0, Sxx0 = spectrogram(data[349000:369000], fs=samplerate, window='hamming', nperseg=256, noverlap=128)\n",
    "ax0.pcolormesh(t0, f0, Sxx0, norm=colors.LogNorm(vmin=1e-8))\n",
    "f1, t1, Sxx1 = spectrogram(data[953000:973000], fs=samplerate, window='hamming')\n",
    "ax1.pcolormesh(t1, f1, Sxx1, norm=colors.LogNorm(vmin=1e-8))\n",
    "f2, t2, Sxx2 = spectrogram(data[1543000:1563000], fs=samplerate, window='hamming')\n",
    "ax2.pcolormesh(t2, f2, Sxx2, norm=colors.LogNorm(vmin=1e-8))\n",
    "for i in ax:\n",
    "    i.set_ylim(40,340)\n",
    "plt.show()"
   ]
  },
  {
   "cell_type": "markdown",
   "metadata": {},
   "source": [
    "# vic_sou"
   ]
  },
  {
   "cell_type": "code",
   "execution_count": null,
   "metadata": {},
   "outputs": [],
   "source": [
    "# import timings\n",
    "vic_sou = np.array(pd.read_csv('judged_timings/vic_sou_01.csv').timings)\n",
    "print(vic_sou)"
   ]
  },
  {
   "cell_type": "code",
   "execution_count": null,
   "metadata": {},
   "outputs": [],
   "source": [
    "fig, ax = plt.subplots(ncols=3, figsize=(12,9))\n",
    "(ax0, ax1, ax2) = ax\n",
    "f0, t0, Sxx0 = spectrogram(data[136000:156000], fs=samplerate, window='hamming', nperseg=256, noverlap=128)\n",
    "ax0.pcolormesh(t0, f0, Sxx0, norm=colors.LogNorm(vmin=1e-8))\n",
    "f1, t1, Sxx1 = spectrogram(data[709000:729000], fs=samplerate, window='hamming')\n",
    "ax1.pcolormesh(t1, f1, Sxx1, norm=colors.LogNorm(vmin=1e-8))\n",
    "f2, t2, Sxx2 = spectrogram(data[1350000:1370000], fs=samplerate, window='hamming')\n",
    "ax2.pcolormesh(t2, f2, Sxx2, norm=colors.LogNorm(vmin=1e-8))\n",
    "for i in ax:\n",
    "    i.set_ylim(40,340)\n",
    "plt.show()"
   ]
  },
  {
   "cell_type": "markdown",
   "metadata": {},
   "source": [
    "# vic_nor"
   ]
  },
  {
   "cell_type": "code",
   "execution_count": null,
   "metadata": {},
   "outputs": [],
   "source": [
    "# import timings\n",
    "vic_nor = np.array(pd.read_csv('judged_timings/vic_nor_01.csv').timings)\n",
    "print(vic_nor)"
   ]
  },
  {
   "cell_type": "code",
   "execution_count": null,
   "metadata": {},
   "outputs": [],
   "source": [
    "fig, ax = plt.subplots(ncols=7, figsize=(28,9))\n",
    "(ax0, ax1, ax2, ax3, ax4, ax5, ax6) = ax\n",
    "f0, t0, Sxx0 = spectrogram(data[94000:114000], fs=samplerate, window='hamming', nperseg=256, noverlap=128)\n",
    "ax0.pcolormesh(t0, f0, Sxx0, norm=colors.LogNorm(vmin=1e-8))\n",
    "f1, t1, Sxx1 = spectrogram(data[269000:289000], fs=samplerate, window='hamming')\n",
    "ax1.pcolormesh(t1, f1, Sxx1, norm=colors.LogNorm(vmin=1e-8))\n",
    "f2, t2, Sxx2 = spectrogram(data[554000:574000], fs=samplerate, window='hamming')\n",
    "ax2.pcolormesh(t2, f2, Sxx2, norm=colors.LogNorm(vmin=1e-8))\n",
    "f3, t3, Sxx3 = spectrogram(data[804000:824000], fs=samplerate, window='hamming')\n",
    "ax3.pcolormesh(t3, f3, Sxx3, norm=colors.LogNorm(vmin=1e-8))\n",
    "f4, t4, Sxx4 = spectrogram(data[1006000:1026000], fs=samplerate, window='hamming')\n",
    "ax4.pcolormesh(t4, f4, Sxx4, norm=colors.LogNorm(vmin=1e-8))\n",
    "f5, t5, Sxx5 = spectrogram(data[1322000:1342000], fs=samplerate, window='hamming')\n",
    "ax5.pcolormesh(t5, f5, Sxx5, norm=colors.LogNorm(vmin=1e-8))\n",
    "f6, t6, Sxx6 = spectrogram(data[1619000:1639000], fs=samplerate, window='hamming')\n",
    "ax6.pcolormesh(t6, f6, Sxx6, norm=colors.LogNorm(vmin=1e-8))\n",
    "for i in ax:\n",
    "    i.set_ylim(40,340)\n",
    "plt.show()"
   ]
  },
  {
   "cell_type": "markdown",
   "metadata": {},
   "source": [
    "# attempt max pooling"
   ]
  },
  {
   "cell_type": "code",
   "execution_count": null,
   "metadata": {},
   "outputs": [],
   "source": [
    "def max_pooling(array, pool_size, pool_overlap=(0,0)):\n",
    "    if pool_overlap:\n",
    "        if (pool_overlap[0] >= pool_size[0]) and (pool_overlap[1] >= pool_size[1]):\n",
    "            print('pool_overlap must be less than pool_size')\n",
    "            return\n",
    "\n",
    "    output = []\n",
    "    for i in range(0, array.shape[0]-pool_size[0]+pool_overlap[0], pool_size[0]-pool_overlap[0]):\n",
    "        row = []\n",
    "        for j in range(0, array.shape[1]-pool_size[1]+pool_overlap[1], pool_size[1]-pool_overlap[1]):\n",
    "            maximum = max(np.array(array[i:i+pool_size[0], j:j+pool_size[1]]).flatten())\n",
    "            row.append(maximum)\n",
    "        output.append((row))\n",
    "    return output"
   ]
  },
  {
   "cell_type": "code",
   "execution_count": null,
   "metadata": {},
   "outputs": [],
   "source": [
    "def quick_plot_max_pooling(data, array, samplerate, nperseg=100, noverlap=0, nfft=40, pool_size=(1,1), pool_overlap=(0,0), vmin=None, ylim=None):\n",
    "    fig, ax = plt.subplots(ncols=len(array), figsize=(3*len(array),5))\n",
    "    for i in range(len(array)):\n",
    "        f0, t0, Sxx0 = spectrogram(data[samplerate*array[i][0]:samplerate*array[i][1]], fs=samplerate, window='hamming', nperseg=nperseg, noverlap=noverlap, nfft=nfft)\n",
    "        pooled = max_pooling(Sxx0, pool_size=pool_size, pool_overlap=pool_overlap)\n",
    "        f = np.linspace(0,500,len(pooled))\n",
    "        t = np.linspace(0,(array[i][1]-array[i][0])//samplerate,len(pooled[0]))\n",
    "        print(pooled)\n",
    "        ax[i].pcolormesh(t, f, pooled, norm=colors.LogNorm(vmin=vmin))\n",
    "        if ylim:    ax[i].set_ylim(ylim[0], ylim[1])\n",
    "\n",
    "    plt.show()"
   ]
  },
  {
   "cell_type": "markdown",
   "metadata": {},
   "source": [
    "## bak_nor"
   ]
  },
  {
   "cell_type": "code",
   "execution_count": null,
   "metadata": {},
   "outputs": [],
   "source": [
    "# import timings\n",
    "bak_nor = np.array(pd.read_csv('judged_timings/bak_nor_01.csv').timings)\n",
    "print(bak_nor)"
   ]
  },
  {
   "cell_type": "code",
   "execution_count": null,
   "metadata": {},
   "outputs": [],
   "source": [
    "fig, ax = plt.subplots(ncols=3, figsize=(12,9))\n",
    "(ax0, ax1, ax2) = ax\n",
    "f0, t0, Sxx0 = spectrogram(data[349000:369000], fs=samplerate, window='hamming', nperseg=100, nfft=10000)\n",
    "pooled0 = max_pooling(Sxx0, (5,5), pool_overlap=(0,0))\n",
    "f0 = np.linspace(0,500,len(pooled0))\n",
    "t0 = np.linspace(0,20,len(pooled0[0]))\n",
    "ax0.pcolormesh(t0, f0, pooled0, norm=colors.LogNorm(vmin=6e-8))\n",
    "f1, t1, Sxx1 = spectrogram(data[953000:973000], fs=samplerate, window='hamming', nperseg=100, nfft=10000)\n",
    "pooled1 = max_pooling(Sxx1, (5,5), pool_overlap=(0,0))\n",
    "f1 = np.linspace(0,500,len(pooled1))\n",
    "t1 = np.linspace(0,20,len(pooled1[0]))\n",
    "ax1.pcolormesh(t1, f1, pooled1, norm=colors.LogNorm(vmin=6e-8))\n",
    "f2, t2, Sxx2 = spectrogram(data[1543000:1563000], fs=samplerate, window='hamming', nperseg=100, nfft=10000)\n",
    "pooled2 = max_pooling(Sxx2, (5,5), pool_overlap=(0,0))\n",
    "f2 = np.linspace(0,500,len(pooled2))\n",
    "t2 = np.linspace(0,20,len(pooled2[0]))\n",
    "ax2.pcolormesh(t2, f2, pooled2, norm=colors.LogNorm(vmin=6e-8))\n",
    "for i in ax:\n",
    "    i.set_ylim(100,175)\n",
    "plt.show()"
   ]
  },
  {
   "cell_type": "markdown",
   "metadata": {},
   "source": [
    "# cen_eas"
   ]
  },
  {
   "cell_type": "code",
   "execution_count": null,
   "metadata": {},
   "outputs": [],
   "source": [
    "wavfile = 'train_recordings/hour0101.wav'\n",
    "data, samplerate = librosa.load(wavfile, sr=1000)"
   ]
  },
  {
   "cell_type": "code",
   "execution_count": null,
   "metadata": {},
   "outputs": [],
   "source": [
    "# import cen_eas timings\n",
    "cen_eas = np.array(pd.read_csv('judged_timings/cen_eas_01.csv').timings)\n",
    "print(cen_eas)"
   ]
  },
  {
   "cell_type": "code",
   "execution_count": null,
   "metadata": {},
   "outputs": [],
   "source": [
    "array = [[192,212],[497,517],[807,827],[1464,1484]]\n",
    "print(range(len(array)))\n",
    "quick_plot_max_pooling(data, array, samplerate, nperseg=100, noverlap=50, nfft=10000, pool_size=(5,5), pool_overlap=(1,1), vmin=None, ylim=None)"
   ]
  },
  {
   "cell_type": "code",
   "execution_count": null,
   "metadata": {},
   "outputs": [],
   "source": []
  }
 ],
 "metadata": {
  "kernelspec": {
   "display_name": "Python 3",
   "language": "python",
   "name": "python3"
  },
  "language_info": {
   "codemirror_mode": {
    "name": "ipython",
    "version": 3
   },
   "file_extension": ".py",
   "mimetype": "text/x-python",
   "name": "python",
   "nbconvert_exporter": "python",
   "pygments_lexer": "ipython3",
   "version": "3.8.3"
  }
 },
 "nbformat": 4,
 "nbformat_minor": 2
}
